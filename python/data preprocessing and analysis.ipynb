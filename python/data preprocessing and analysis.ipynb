{
 "cells": [
  {
   "cell_type": "code",
   "execution_count": 2,
   "metadata": {},
   "outputs": [],
   "source": [
    "import pandas as pd\n",
    "import warnings\n",
    "warnings.filterwarnings('ignore')\n",
    "\n",
    "import matplotlib.pyplot as plt\n",
    "import seaborn as sns\n",
    "\n",
    "#Text Preprocessing\n",
    "import re\n",
    "import string\n",
    "import nltk\n",
    "from string import punctuation\n",
    "from nltk.corpus import stopwords\n",
    "from nltk.tokenize import ToktokTokenizer\n",
    "from nltk.tokenize import word_tokenize\n",
    "from nltk.stem import WordNetLemmatizer\n",
    "from nltk.stem import PorterStemmer\n",
    "from bs4 import BeautifulSoup"
   ]
  },
  {
   "cell_type": "code",
   "execution_count": 3,
   "metadata": {},
   "outputs": [],
   "source": [
    "df = pd.read_csv(r\"D:\\DEPI Data Engineer\\__ Graduation Project\\Data\\data.csv\")"
   ]
  },
  {
   "cell_type": "markdown",
   "metadata": {},
   "source": [
    "### **Data Exploration**"
   ]
  },
  {
   "cell_type": "code",
   "execution_count": 4,
   "metadata": {},
   "outputs": [
    {
     "data": {
      "text/html": [
       "<div>\n",
       "<style scoped>\n",
       "    .dataframe tbody tr th:only-of-type {\n",
       "        vertical-align: middle;\n",
       "    }\n",
       "\n",
       "    .dataframe tbody tr th {\n",
       "        vertical-align: top;\n",
       "    }\n",
       "\n",
       "    .dataframe thead th {\n",
       "        text-align: right;\n",
       "    }\n",
       "</style>\n",
       "<table border=\"1\" class=\"dataframe\">\n",
       "  <thead>\n",
       "    <tr style=\"text-align: right;\">\n",
       "      <th></th>\n",
       "      <th>Unnamed: 0</th>\n",
       "      <th>author_id</th>\n",
       "      <th>rating</th>\n",
       "      <th>is_recommended</th>\n",
       "      <th>helpfulness</th>\n",
       "      <th>total_feedback_count</th>\n",
       "      <th>total_neg_feedback_count</th>\n",
       "      <th>total_pos_feedback_count</th>\n",
       "      <th>submission_time</th>\n",
       "      <th>review_text</th>\n",
       "      <th>review_title</th>\n",
       "      <th>skin_tone</th>\n",
       "      <th>eye_color</th>\n",
       "      <th>skin_type</th>\n",
       "      <th>hair_color</th>\n",
       "      <th>product_id</th>\n",
       "      <th>product_name</th>\n",
       "      <th>brand_name</th>\n",
       "      <th>price_usd</th>\n",
       "    </tr>\n",
       "  </thead>\n",
       "  <tbody>\n",
       "    <tr>\n",
       "      <th>0</th>\n",
       "      <td>0</td>\n",
       "      <td>1741593524</td>\n",
       "      <td>5</td>\n",
       "      <td>1.0</td>\n",
       "      <td>1.0</td>\n",
       "      <td>2</td>\n",
       "      <td>0</td>\n",
       "      <td>2</td>\n",
       "      <td>2023-02-01</td>\n",
       "      <td>I use this with the Nudestix “Citrus Clean Bal...</td>\n",
       "      <td>Taught me how to double cleanse!</td>\n",
       "      <td>NaN</td>\n",
       "      <td>brown</td>\n",
       "      <td>dry</td>\n",
       "      <td>black</td>\n",
       "      <td>P504322</td>\n",
       "      <td>Gentle Hydra-Gel Face Cleanser</td>\n",
       "      <td>NUDESTIX</td>\n",
       "      <td>19.0</td>\n",
       "    </tr>\n",
       "    <tr>\n",
       "      <th>1</th>\n",
       "      <td>1</td>\n",
       "      <td>31423088263</td>\n",
       "      <td>1</td>\n",
       "      <td>0.0</td>\n",
       "      <td>NaN</td>\n",
       "      <td>0</td>\n",
       "      <td>0</td>\n",
       "      <td>0</td>\n",
       "      <td>2023-03-21</td>\n",
       "      <td>I bought this lip mask after reading the revie...</td>\n",
       "      <td>Disappointed</td>\n",
       "      <td>NaN</td>\n",
       "      <td>NaN</td>\n",
       "      <td>NaN</td>\n",
       "      <td>NaN</td>\n",
       "      <td>P420652</td>\n",
       "      <td>Lip Sleeping Mask Intense Hydration with Vitam...</td>\n",
       "      <td>LANEIGE</td>\n",
       "      <td>24.0</td>\n",
       "    </tr>\n",
       "    <tr>\n",
       "      <th>2</th>\n",
       "      <td>2</td>\n",
       "      <td>5061282401</td>\n",
       "      <td>5</td>\n",
       "      <td>1.0</td>\n",
       "      <td>NaN</td>\n",
       "      <td>0</td>\n",
       "      <td>0</td>\n",
       "      <td>0</td>\n",
       "      <td>2023-03-21</td>\n",
       "      <td>My review title says it all! I get so excited ...</td>\n",
       "      <td>New Favorite Routine</td>\n",
       "      <td>light</td>\n",
       "      <td>brown</td>\n",
       "      <td>dry</td>\n",
       "      <td>blonde</td>\n",
       "      <td>P420652</td>\n",
       "      <td>Lip Sleeping Mask Intense Hydration with Vitam...</td>\n",
       "      <td>LANEIGE</td>\n",
       "      <td>24.0</td>\n",
       "    </tr>\n",
       "    <tr>\n",
       "      <th>3</th>\n",
       "      <td>3</td>\n",
       "      <td>6083038851</td>\n",
       "      <td>5</td>\n",
       "      <td>1.0</td>\n",
       "      <td>NaN</td>\n",
       "      <td>0</td>\n",
       "      <td>0</td>\n",
       "      <td>0</td>\n",
       "      <td>2023-03-20</td>\n",
       "      <td>I’ve always loved this formula for a long time...</td>\n",
       "      <td>Can't go wrong with any of them</td>\n",
       "      <td>NaN</td>\n",
       "      <td>brown</td>\n",
       "      <td>combination</td>\n",
       "      <td>black</td>\n",
       "      <td>P420652</td>\n",
       "      <td>Lip Sleeping Mask Intense Hydration with Vitam...</td>\n",
       "      <td>LANEIGE</td>\n",
       "      <td>24.0</td>\n",
       "    </tr>\n",
       "    <tr>\n",
       "      <th>4</th>\n",
       "      <td>4</td>\n",
       "      <td>47056667835</td>\n",
       "      <td>5</td>\n",
       "      <td>1.0</td>\n",
       "      <td>NaN</td>\n",
       "      <td>0</td>\n",
       "      <td>0</td>\n",
       "      <td>0</td>\n",
       "      <td>2023-03-20</td>\n",
       "      <td>If you have dry cracked lips, this is a must h...</td>\n",
       "      <td>A must have !!!</td>\n",
       "      <td>light</td>\n",
       "      <td>hazel</td>\n",
       "      <td>combination</td>\n",
       "      <td>NaN</td>\n",
       "      <td>P420652</td>\n",
       "      <td>Lip Sleeping Mask Intense Hydration with Vitam...</td>\n",
       "      <td>LANEIGE</td>\n",
       "      <td>24.0</td>\n",
       "    </tr>\n",
       "  </tbody>\n",
       "</table>\n",
       "</div>"
      ],
      "text/plain": [
       "   Unnamed: 0    author_id  rating  is_recommended  helpfulness  \\\n",
       "0           0   1741593524       5             1.0          1.0   \n",
       "1           1  31423088263       1             0.0          NaN   \n",
       "2           2   5061282401       5             1.0          NaN   \n",
       "3           3   6083038851       5             1.0          NaN   \n",
       "4           4  47056667835       5             1.0          NaN   \n",
       "\n",
       "   total_feedback_count  total_neg_feedback_count  total_pos_feedback_count  \\\n",
       "0                     2                         0                         2   \n",
       "1                     0                         0                         0   \n",
       "2                     0                         0                         0   \n",
       "3                     0                         0                         0   \n",
       "4                     0                         0                         0   \n",
       "\n",
       "  submission_time                                        review_text  \\\n",
       "0      2023-02-01  I use this with the Nudestix “Citrus Clean Bal...   \n",
       "1      2023-03-21  I bought this lip mask after reading the revie...   \n",
       "2      2023-03-21  My review title says it all! I get so excited ...   \n",
       "3      2023-03-20  I’ve always loved this formula for a long time...   \n",
       "4      2023-03-20  If you have dry cracked lips, this is a must h...   \n",
       "\n",
       "                       review_title skin_tone eye_color    skin_type  \\\n",
       "0  Taught me how to double cleanse!       NaN     brown          dry   \n",
       "1                      Disappointed       NaN       NaN          NaN   \n",
       "2              New Favorite Routine     light     brown          dry   \n",
       "3   Can't go wrong with any of them       NaN     brown  combination   \n",
       "4                   A must have !!!     light     hazel  combination   \n",
       "\n",
       "  hair_color product_id                                       product_name  \\\n",
       "0      black    P504322                     Gentle Hydra-Gel Face Cleanser   \n",
       "1        NaN    P420652  Lip Sleeping Mask Intense Hydration with Vitam...   \n",
       "2     blonde    P420652  Lip Sleeping Mask Intense Hydration with Vitam...   \n",
       "3      black    P420652  Lip Sleeping Mask Intense Hydration with Vitam...   \n",
       "4        NaN    P420652  Lip Sleeping Mask Intense Hydration with Vitam...   \n",
       "\n",
       "  brand_name  price_usd  \n",
       "0   NUDESTIX       19.0  \n",
       "1    LANEIGE       24.0  \n",
       "2    LANEIGE       24.0  \n",
       "3    LANEIGE       24.0  \n",
       "4    LANEIGE       24.0  "
      ]
     },
     "execution_count": 4,
     "metadata": {},
     "output_type": "execute_result"
    }
   ],
   "source": [
    "df.head()"
   ]
  },
  {
   "cell_type": "code",
   "execution_count": 5,
   "metadata": {},
   "outputs": [
    {
     "name": "stdout",
     "output_type": "stream",
     "text": [
      "<class 'pandas.core.frame.DataFrame'>\n",
      "RangeIndex: 602130 entries, 0 to 602129\n",
      "Data columns (total 19 columns):\n",
      " #   Column                    Non-Null Count   Dtype  \n",
      "---  ------                    --------------   -----  \n",
      " 0   Unnamed: 0                602130 non-null  int64  \n",
      " 1   author_id                 602130 non-null  object \n",
      " 2   rating                    602130 non-null  int64  \n",
      " 3   is_recommended            484644 non-null  float64\n",
      " 4   helpfulness               270298 non-null  float64\n",
      " 5   total_feedback_count      602130 non-null  int64  \n",
      " 6   total_neg_feedback_count  602130 non-null  int64  \n",
      " 7   total_pos_feedback_count  602130 non-null  int64  \n",
      " 8   submission_time           602130 non-null  object \n",
      " 9   review_text               601131 non-null  object \n",
      " 10  review_title              435119 non-null  object \n",
      " 11  skin_tone                 496074 non-null  object \n",
      " 12  eye_color                 463642 non-null  object \n",
      " 13  skin_type                 527447 non-null  object \n",
      " 14  hair_color                461049 non-null  object \n",
      " 15  product_id                602130 non-null  object \n",
      " 16  product_name              602130 non-null  object \n",
      " 17  brand_name                602130 non-null  object \n",
      " 18  price_usd                 602130 non-null  float64\n",
      "dtypes: float64(3), int64(5), object(11)\n",
      "memory usage: 87.3+ MB\n"
     ]
    }
   ],
   "source": [
    "df.info()"
   ]
  },
  {
   "cell_type": "markdown",
   "metadata": {},
   "source": [
    "Data Contains Null values, We can handle it."
   ]
  },
  {
   "cell_type": "markdown",
   "metadata": {},
   "source": [
    "# **1. Handle Missing Values:**"
   ]
  },
  {
   "cell_type": "code",
   "execution_count": 6,
   "metadata": {},
   "outputs": [
    {
     "data": {
      "text/plain": [
       "602130"
      ]
     },
     "execution_count": 6,
     "metadata": {},
     "output_type": "execute_result"
    }
   ],
   "source": [
    "# find total number of rows\n",
    "\n",
    "total_rows = df.shape[0]\n",
    "total_rows"
   ]
  },
  {
   "cell_type": "markdown",
   "metadata": {},
   "source": [
    "Camparing missin values with the total number  of rows concluded that missing values are not a small number to drop them. instead, we are going to handle with them.\n",
    "We are going to fill them with statstical values like: (mean, median, mode, ...)"
   ]
  },
  {
   "cell_type": "code",
   "execution_count": 7,
   "metadata": {},
   "outputs": [],
   "source": [
    "# handle is_recommended column for missing values\n",
    "# group the rows based on product name, then fill the missing values with mode depending of the values of the product name it has\n",
    "\n",
    "df['is_recommended'].fillna(df.groupby('product_name')['is_recommended'].fillna('mode').iloc[0], inplace=True)"
   ]
  },
  {
   "cell_type": "code",
   "execution_count": 8,
   "metadata": {},
   "outputs": [],
   "source": [
    "# handle helpfulness column for missing vlalues\n",
    "# group the rows based on product name, then fill the missing values with mode depending of the values of the product name it has\n",
    "\n",
    "df['helpfulness'].fillna(df.groupby('product_name')['helpfulness'].fillna('mode').iloc[0], inplace=True)"
   ]
  },
  {
   "cell_type": "code",
   "execution_count": 9,
   "metadata": {},
   "outputs": [
    {
     "name": "stdout",
     "output_type": "stream",
     "text": [
      "<class 'pandas.core.frame.DataFrame'>\n",
      "RangeIndex: 602130 entries, 0 to 602129\n",
      "Data columns (total 19 columns):\n",
      " #   Column                    Non-Null Count   Dtype  \n",
      "---  ------                    --------------   -----  \n",
      " 0   Unnamed: 0                602130 non-null  int64  \n",
      " 1   author_id                 602130 non-null  object \n",
      " 2   rating                    602130 non-null  int64  \n",
      " 3   is_recommended            602130 non-null  float64\n",
      " 4   helpfulness               602130 non-null  float64\n",
      " 5   total_feedback_count      602130 non-null  int64  \n",
      " 6   total_neg_feedback_count  602130 non-null  int64  \n",
      " 7   total_pos_feedback_count  602130 non-null  int64  \n",
      " 8   submission_time           602130 non-null  object \n",
      " 9   review_text               601131 non-null  object \n",
      " 10  review_title              435119 non-null  object \n",
      " 11  skin_tone                 496074 non-null  object \n",
      " 12  eye_color                 463642 non-null  object \n",
      " 13  skin_type                 527447 non-null  object \n",
      " 14  hair_color                461049 non-null  object \n",
      " 15  product_id                602130 non-null  object \n",
      " 16  product_name              602130 non-null  object \n",
      " 17  brand_name                602130 non-null  object \n",
      " 18  price_usd                 602130 non-null  float64\n",
      "dtypes: float64(3), int64(5), object(11)\n",
      "memory usage: 87.3+ MB\n"
     ]
    }
   ],
   "source": [
    "df['review_title'].head()\n",
    "\n",
    "df.info()"
   ]
  },
  {
   "cell_type": "code",
   "execution_count": 10,
   "metadata": {},
   "outputs": [],
   "source": [
    "# drop columns that don't have review text\n",
    "\n",
    "df.dropna(subset=['review_text'], inplace=True)"
   ]
  },
  {
   "cell_type": "code",
   "execution_count": 11,
   "metadata": {},
   "outputs": [],
   "source": [
    "# fill missing vslues in 'skin_tone', 'eye_color', 'skin_type' by the mode value for each column\n",
    "\n",
    "df['skin_tone'].fillna(df['skin_tone'].mode().iloc[0], inplace=True)\n",
    "df['eye_color'].fillna(df['eye_color'].mode().iloc[0], inplace=True)\n",
    "df['skin_type'].fillna(df['skin_type'].mode().iloc[0], inplace=True)\n",
    "df['hair_color'].fillna(df['hair_color'].mode().iloc[0], inplace=True)"
   ]
  },
  {
   "cell_type": "code",
   "execution_count": 12,
   "metadata": {},
   "outputs": [
    {
     "name": "stdout",
     "output_type": "stream",
     "text": [
      "<class 'pandas.core.frame.DataFrame'>\n",
      "Index: 601131 entries, 0 to 602129\n",
      "Data columns (total 19 columns):\n",
      " #   Column                    Non-Null Count   Dtype  \n",
      "---  ------                    --------------   -----  \n",
      " 0   Unnamed: 0                601131 non-null  int64  \n",
      " 1   author_id                 601131 non-null  object \n",
      " 2   rating                    601131 non-null  int64  \n",
      " 3   is_recommended            601131 non-null  float64\n",
      " 4   helpfulness               601131 non-null  float64\n",
      " 5   total_feedback_count      601131 non-null  int64  \n",
      " 6   total_neg_feedback_count  601131 non-null  int64  \n",
      " 7   total_pos_feedback_count  601131 non-null  int64  \n",
      " 8   submission_time           601131 non-null  object \n",
      " 9   review_text               601131 non-null  object \n",
      " 10  review_title              601131 non-null  object \n",
      " 11  skin_tone                 601131 non-null  object \n",
      " 12  eye_color                 601131 non-null  object \n",
      " 13  skin_type                 601131 non-null  object \n",
      " 14  hair_color                601131 non-null  object \n",
      " 15  product_id                601131 non-null  object \n",
      " 16  product_name              601131 non-null  object \n",
      " 17  brand_name                601131 non-null  object \n",
      " 18  price_usd                 601131 non-null  float64\n",
      "dtypes: float64(3), int64(5), object(11)\n",
      "memory usage: 91.7+ MB\n"
     ]
    }
   ],
   "source": [
    "# fill missing values in 'review_title' by 'No_title' value\n",
    "\n",
    "df['review_title'].fillna('No_title', inplace=True)\n",
    "df.info()"
   ]
  },
  {
   "cell_type": "markdown",
   "metadata": {},
   "source": [
    "# **2. Handle Outliers**"
   ]
  },
  {
   "cell_type": "markdown",
   "metadata": {},
   "source": [
    "### **i. Check outliers in numerical values**"
   ]
  },
  {
   "cell_type": "code",
   "execution_count": 13,
   "metadata": {},
   "outputs": [
    {
     "name": "stdout",
     "output_type": "stream",
     "text": [
      "Outliers:\n",
      "Empty DataFrame\n",
      "Columns: [Unnamed: 0, author_id, rating, is_recommended, helpfulness, total_feedback_count, total_neg_feedback_count, total_pos_feedback_count, submission_time, review_text, review_title, skin_tone, eye_color, skin_type, hair_color, product_id, product_name, brand_name, price_usd]\n",
      "Index: []\n"
     ]
    }
   ],
   "source": [
    "# 'rating': just to be from 1 to 5, any number out of this range is outlier. we should find it and see the values  \n",
    "\n",
    "# Identify outliers: ratings not between 1 and 5\n",
    "outliers = df[(df['rating'] < 1) | (df['rating'] > 5)]\n",
    "print(\"Outliers:\")\n",
    "print(outliers)"
   ]
  },
  {
   "cell_type": "markdown",
   "metadata": {},
   "source": [
    "##### no outliers here"
   ]
  },
  {
   "cell_type": "markdown",
   "metadata": {},
   "source": [
    "### **ii. Check outliers in categorical values**"
   ]
  },
  {
   "cell_type": "markdown",
   "metadata": {},
   "source": [
    "### Identify outliers: values not equal to 0 or 1"
   ]
  },
  {
   "cell_type": "code",
   "execution_count": null,
   "metadata": {},
   "outputs": [
    {
     "name": "stdout",
     "output_type": "stream",
     "text": [
      "Outliers:\n",
      "Empty DataFrame\n",
      "Columns: [Unnamed: 0, author_id, rating, is_recommended, helpfulness, total_feedback_count, total_neg_feedback_count, total_pos_feedback_count, submission_time, review_text, review_title, skin_tone, eye_color, skin_type, hair_color, product_id, product_name, brand_name, price_usd]\n",
      "Index: []\n"
     ]
    }
   ],
   "source": [
    "outliers = df[(df['is_recommended'] != 0) & (df['is_recommended'] != 1)]\n",
    "print(\"Outliers:\")\n",
    "print(outliers)"
   ]
  },
  {
   "cell_type": "markdown",
   "metadata": {},
   "source": [
    "Skin Type, Skin tones, eye color, hair color columns handling"
   ]
  },
  {
   "cell_type": "code",
   "execution_count": 15,
   "metadata": {},
   "outputs": [
    {
     "data": {
      "text/plain": [
       "array(['light', 'lightMedium', 'fairLight', 'fair', 'medium', 'notSureST',\n",
       "       'mediumTan', 'tan', 'rich', 'olive', 'deep', 'porcelain', 'dark',\n",
       "       'ebony'], dtype=object)"
      ]
     },
     "execution_count": 15,
     "metadata": {},
     "output_type": "execute_result"
    }
   ],
   "source": [
    "df['skin_tone'].unique()"
   ]
  },
  {
   "cell_type": "code",
   "execution_count": 16,
   "metadata": {},
   "outputs": [
    {
     "data": {
      "text/plain": [
       "array(['dry', 'combination', 'normal', 'oily'], dtype=object)"
      ]
     },
     "execution_count": 16,
     "metadata": {},
     "output_type": "execute_result"
    }
   ],
   "source": [
    "df['skin_type'].unique()"
   ]
  },
  {
   "cell_type": "code",
   "execution_count": 17,
   "metadata": {},
   "outputs": [
    {
     "data": {
      "text/plain": [
       "array(['brown', 'hazel', 'blue', 'green', 'gray', 'Grey'], dtype=object)"
      ]
     },
     "execution_count": 17,
     "metadata": {},
     "output_type": "execute_result"
    }
   ],
   "source": [
    "df['eye_color'].unique()"
   ]
  },
  {
   "cell_type": "markdown",
   "metadata": {},
   "source": [
    "Handle grey and gray "
   ]
  },
  {
   "cell_type": "code",
   "execution_count": 18,
   "metadata": {},
   "outputs": [],
   "source": [
    "df['eye_color'] = df['eye_color'].str.lower().replace('Grey', 'gray')"
   ]
  },
  {
   "cell_type": "code",
   "execution_count": 19,
   "metadata": {},
   "outputs": [
    {
     "data": {
      "text/plain": [
       "array(['black', 'brown', 'blonde', 'brunette', 'gray', 'auburn', 'red'],\n",
       "      dtype=object)"
      ]
     },
     "execution_count": 19,
     "metadata": {},
     "output_type": "execute_result"
    }
   ],
   "source": [
    "df['hair_color'].unique()"
   ]
  },
  {
   "cell_type": "markdown",
   "metadata": {},
   "source": [
    "# **3. Handle Duplicate Data:**"
   ]
  },
  {
   "cell_type": "code",
   "execution_count": 20,
   "metadata": {},
   "outputs": [],
   "source": [
    "df.drop_duplicates(inplace=True)"
   ]
  },
  {
   "cell_type": "code",
   "execution_count": 21,
   "metadata": {},
   "outputs": [
    {
     "name": "stdout",
     "output_type": "stream",
     "text": [
      "<class 'pandas.core.frame.DataFrame'>\n",
      "Index: 601131 entries, 0 to 602129\n",
      "Data columns (total 19 columns):\n",
      " #   Column                    Non-Null Count   Dtype  \n",
      "---  ------                    --------------   -----  \n",
      " 0   Unnamed: 0                601131 non-null  int64  \n",
      " 1   author_id                 601131 non-null  object \n",
      " 2   rating                    601131 non-null  int64  \n",
      " 3   is_recommended            601131 non-null  float64\n",
      " 4   helpfulness               601131 non-null  float64\n",
      " 5   total_feedback_count      601131 non-null  int64  \n",
      " 6   total_neg_feedback_count  601131 non-null  int64  \n",
      " 7   total_pos_feedback_count  601131 non-null  int64  \n",
      " 8   submission_time           601131 non-null  object \n",
      " 9   review_text               601131 non-null  object \n",
      " 10  review_title              601131 non-null  object \n",
      " 11  skin_tone                 601131 non-null  object \n",
      " 12  eye_color                 601131 non-null  object \n",
      " 13  skin_type                 601131 non-null  object \n",
      " 14  hair_color                601131 non-null  object \n",
      " 15  product_id                601131 non-null  object \n",
      " 16  product_name              601131 non-null  object \n",
      " 17  brand_name                601131 non-null  object \n",
      " 18  price_usd                 601131 non-null  float64\n",
      "dtypes: float64(3), int64(5), object(11)\n",
      "memory usage: 91.7+ MB\n"
     ]
    }
   ],
   "source": [
    "df.info()"
   ]
  },
  {
   "cell_type": "code",
   "execution_count": 22,
   "metadata": {},
   "outputs": [
    {
     "data": {
      "text/html": [
       "<div>\n",
       "<style scoped>\n",
       "    .dataframe tbody tr th:only-of-type {\n",
       "        vertical-align: middle;\n",
       "    }\n",
       "\n",
       "    .dataframe tbody tr th {\n",
       "        vertical-align: top;\n",
       "    }\n",
       "\n",
       "    .dataframe thead th {\n",
       "        text-align: right;\n",
       "    }\n",
       "</style>\n",
       "<table border=\"1\" class=\"dataframe\">\n",
       "  <thead>\n",
       "    <tr style=\"text-align: right;\">\n",
       "      <th></th>\n",
       "      <th>Unnamed: 0</th>\n",
       "      <th>rating</th>\n",
       "      <th>is_recommended</th>\n",
       "      <th>helpfulness</th>\n",
       "      <th>total_feedback_count</th>\n",
       "      <th>total_neg_feedback_count</th>\n",
       "      <th>total_pos_feedback_count</th>\n",
       "      <th>price_usd</th>\n",
       "    </tr>\n",
       "  </thead>\n",
       "  <tbody>\n",
       "    <tr>\n",
       "      <th>count</th>\n",
       "      <td>601131.000000</td>\n",
       "      <td>601131.000000</td>\n",
       "      <td>601131.000000</td>\n",
       "      <td>601131.000000</td>\n",
       "      <td>601131.000000</td>\n",
       "      <td>601131.000000</td>\n",
       "      <td>601131.000000</td>\n",
       "      <td>601131.000000</td>\n",
       "    </tr>\n",
       "    <tr>\n",
       "      <th>mean</th>\n",
       "      <td>301125.163397</td>\n",
       "      <td>4.311671</td>\n",
       "      <td>0.869563</td>\n",
       "      <td>0.896792</td>\n",
       "      <td>3.664965</td>\n",
       "      <td>0.765169</td>\n",
       "      <td>2.899796</td>\n",
       "      <td>45.730590</td>\n",
       "    </tr>\n",
       "    <tr>\n",
       "      <th>std</th>\n",
       "      <td>173795.372953</td>\n",
       "      <td>1.143659</td>\n",
       "      <td>0.336784</td>\n",
       "      <td>0.242194</td>\n",
       "      <td>25.868423</td>\n",
       "      <td>4.966716</td>\n",
       "      <td>22.647383</td>\n",
       "      <td>35.753886</td>\n",
       "    </tr>\n",
       "    <tr>\n",
       "      <th>min</th>\n",
       "      <td>0.000000</td>\n",
       "      <td>1.000000</td>\n",
       "      <td>0.000000</td>\n",
       "      <td>0.000000</td>\n",
       "      <td>0.000000</td>\n",
       "      <td>0.000000</td>\n",
       "      <td>0.000000</td>\n",
       "      <td>3.000000</td>\n",
       "    </tr>\n",
       "    <tr>\n",
       "      <th>25%</th>\n",
       "      <td>150620.500000</td>\n",
       "      <td>4.000000</td>\n",
       "      <td>1.000000</td>\n",
       "      <td>1.000000</td>\n",
       "      <td>0.000000</td>\n",
       "      <td>0.000000</td>\n",
       "      <td>0.000000</td>\n",
       "      <td>23.500000</td>\n",
       "    </tr>\n",
       "    <tr>\n",
       "      <th>50%</th>\n",
       "      <td>301147.000000</td>\n",
       "      <td>5.000000</td>\n",
       "      <td>1.000000</td>\n",
       "      <td>1.000000</td>\n",
       "      <td>0.000000</td>\n",
       "      <td>0.000000</td>\n",
       "      <td>0.000000</td>\n",
       "      <td>38.000000</td>\n",
       "    </tr>\n",
       "    <tr>\n",
       "      <th>75%</th>\n",
       "      <td>451623.500000</td>\n",
       "      <td>5.000000</td>\n",
       "      <td>1.000000</td>\n",
       "      <td>1.000000</td>\n",
       "      <td>3.000000</td>\n",
       "      <td>0.000000</td>\n",
       "      <td>2.000000</td>\n",
       "      <td>60.000000</td>\n",
       "    </tr>\n",
       "    <tr>\n",
       "      <th>max</th>\n",
       "      <td>602129.000000</td>\n",
       "      <td>5.000000</td>\n",
       "      <td>1.000000</td>\n",
       "      <td>1.000000</td>\n",
       "      <td>5464.000000</td>\n",
       "      <td>573.000000</td>\n",
       "      <td>5050.000000</td>\n",
       "      <td>380.000000</td>\n",
       "    </tr>\n",
       "  </tbody>\n",
       "</table>\n",
       "</div>"
      ],
      "text/plain": [
       "          Unnamed: 0         rating  is_recommended    helpfulness  \\\n",
       "count  601131.000000  601131.000000   601131.000000  601131.000000   \n",
       "mean   301125.163397       4.311671        0.869563       0.896792   \n",
       "std    173795.372953       1.143659        0.336784       0.242194   \n",
       "min         0.000000       1.000000        0.000000       0.000000   \n",
       "25%    150620.500000       4.000000        1.000000       1.000000   \n",
       "50%    301147.000000       5.000000        1.000000       1.000000   \n",
       "75%    451623.500000       5.000000        1.000000       1.000000   \n",
       "max    602129.000000       5.000000        1.000000       1.000000   \n",
       "\n",
       "       total_feedback_count  total_neg_feedback_count  \\\n",
       "count         601131.000000             601131.000000   \n",
       "mean               3.664965                  0.765169   \n",
       "std               25.868423                  4.966716   \n",
       "min                0.000000                  0.000000   \n",
       "25%                0.000000                  0.000000   \n",
       "50%                0.000000                  0.000000   \n",
       "75%                3.000000                  0.000000   \n",
       "max             5464.000000                573.000000   \n",
       "\n",
       "       total_pos_feedback_count      price_usd  \n",
       "count             601131.000000  601131.000000  \n",
       "mean                   2.899796      45.730590  \n",
       "std                   22.647383      35.753886  \n",
       "min                    0.000000       3.000000  \n",
       "25%                    0.000000      23.500000  \n",
       "50%                    0.000000      38.000000  \n",
       "75%                    2.000000      60.000000  \n",
       "max                 5050.000000     380.000000  "
      ]
     },
     "execution_count": 22,
     "metadata": {},
     "output_type": "execute_result"
    }
   ],
   "source": [
    "df.describe()"
   ]
  },
  {
   "cell_type": "markdown",
   "metadata": {},
   "source": [
    "through observation, I find outliers in the price_usd"
   ]
  },
  {
   "cell_type": "code",
   "execution_count": 23,
   "metadata": {},
   "outputs": [
    {
     "data": {
      "text/html": [
       "<div>\n",
       "<style scoped>\n",
       "    .dataframe tbody tr th:only-of-type {\n",
       "        vertical-align: middle;\n",
       "    }\n",
       "\n",
       "    .dataframe tbody tr th {\n",
       "        vertical-align: top;\n",
       "    }\n",
       "\n",
       "    .dataframe thead th {\n",
       "        text-align: right;\n",
       "    }\n",
       "</style>\n",
       "<table border=\"1\" class=\"dataframe\">\n",
       "  <thead>\n",
       "    <tr style=\"text-align: right;\">\n",
       "      <th></th>\n",
       "      <th>brand_name</th>\n",
       "      <th>min_price</th>\n",
       "      <th>max_price</th>\n",
       "      <th>product_count</th>\n",
       "    </tr>\n",
       "  </thead>\n",
       "  <tbody>\n",
       "    <tr>\n",
       "      <th>0</th>\n",
       "      <td>Algenist</td>\n",
       "      <td>68.00</td>\n",
       "      <td>115.00</td>\n",
       "      <td>3</td>\n",
       "    </tr>\n",
       "    <tr>\n",
       "      <th>1</th>\n",
       "      <td>Biossance</td>\n",
       "      <td>60.00</td>\n",
       "      <td>74.00</td>\n",
       "      <td>2</td>\n",
       "    </tr>\n",
       "    <tr>\n",
       "      <th>2</th>\n",
       "      <td>Bobbi Brown</td>\n",
       "      <td>66.00</td>\n",
       "      <td>66.00</td>\n",
       "      <td>1</td>\n",
       "    </tr>\n",
       "    <tr>\n",
       "      <th>3</th>\n",
       "      <td>CLINIQUE</td>\n",
       "      <td>14.00</td>\n",
       "      <td>82.00</td>\n",
       "      <td>13</td>\n",
       "    </tr>\n",
       "    <tr>\n",
       "      <th>4</th>\n",
       "      <td>Caudalie</td>\n",
       "      <td>12.00</td>\n",
       "      <td>82.00</td>\n",
       "      <td>5</td>\n",
       "    </tr>\n",
       "    <tr>\n",
       "      <th>5</th>\n",
       "      <td>Charlotte Tilbury</td>\n",
       "      <td>100.00</td>\n",
       "      <td>100.00</td>\n",
       "      <td>1</td>\n",
       "    </tr>\n",
       "    <tr>\n",
       "      <th>6</th>\n",
       "      <td>Clarins</td>\n",
       "      <td>90.00</td>\n",
       "      <td>90.00</td>\n",
       "      <td>1</td>\n",
       "    </tr>\n",
       "    <tr>\n",
       "      <th>7</th>\n",
       "      <td>Dermalogica</td>\n",
       "      <td>15.00</td>\n",
       "      <td>65.00</td>\n",
       "      <td>4</td>\n",
       "    </tr>\n",
       "    <tr>\n",
       "      <th>8</th>\n",
       "      <td>Dior</td>\n",
       "      <td>130.00</td>\n",
       "      <td>130.00</td>\n",
       "      <td>1</td>\n",
       "    </tr>\n",
       "    <tr>\n",
       "      <th>9</th>\n",
       "      <td>Dr. Brandt Skincare</td>\n",
       "      <td>54.00</td>\n",
       "      <td>54.00</td>\n",
       "      <td>1</td>\n",
       "    </tr>\n",
       "    <tr>\n",
       "      <th>10</th>\n",
       "      <td>Dr. Dennis Gross Skincare</td>\n",
       "      <td>68.00</td>\n",
       "      <td>92.00</td>\n",
       "      <td>3</td>\n",
       "    </tr>\n",
       "    <tr>\n",
       "      <th>11</th>\n",
       "      <td>Dr. Jart+</td>\n",
       "      <td>21.00</td>\n",
       "      <td>52.00</td>\n",
       "      <td>3</td>\n",
       "    </tr>\n",
       "    <tr>\n",
       "      <th>12</th>\n",
       "      <td>Drunk Elephant</td>\n",
       "      <td>18.00</td>\n",
       "      <td>90.00</td>\n",
       "      <td>14</td>\n",
       "    </tr>\n",
       "    <tr>\n",
       "      <th>13</th>\n",
       "      <td>Estée Lauder</td>\n",
       "      <td>19.00</td>\n",
       "      <td>195.00</td>\n",
       "      <td>6</td>\n",
       "    </tr>\n",
       "    <tr>\n",
       "      <th>14</th>\n",
       "      <td>Evian</td>\n",
       "      <td>17.00</td>\n",
       "      <td>17.00</td>\n",
       "      <td>1</td>\n",
       "    </tr>\n",
       "    <tr>\n",
       "      <th>15</th>\n",
       "      <td>Farmacy</td>\n",
       "      <td>36.00</td>\n",
       "      <td>60.00</td>\n",
       "      <td>5</td>\n",
       "    </tr>\n",
       "    <tr>\n",
       "      <th>16</th>\n",
       "      <td>First Aid Beauty</td>\n",
       "      <td>24.00</td>\n",
       "      <td>38.00</td>\n",
       "      <td>4</td>\n",
       "    </tr>\n",
       "    <tr>\n",
       "      <th>17</th>\n",
       "      <td>GUERLAIN</td>\n",
       "      <td>55.00</td>\n",
       "      <td>145.00</td>\n",
       "      <td>2</td>\n",
       "    </tr>\n",
       "    <tr>\n",
       "      <th>18</th>\n",
       "      <td>Glow Recipe</td>\n",
       "      <td>15.00</td>\n",
       "      <td>45.00</td>\n",
       "      <td>11</td>\n",
       "    </tr>\n",
       "    <tr>\n",
       "      <th>19</th>\n",
       "      <td>Herbivore</td>\n",
       "      <td>50.00</td>\n",
       "      <td>50.00</td>\n",
       "      <td>1</td>\n",
       "    </tr>\n",
       "    <tr>\n",
       "      <th>20</th>\n",
       "      <td>IT Cosmetics</td>\n",
       "      <td>20.00</td>\n",
       "      <td>44.00</td>\n",
       "      <td>2</td>\n",
       "    </tr>\n",
       "    <tr>\n",
       "      <th>21</th>\n",
       "      <td>Isle of Paradise</td>\n",
       "      <td>32.00</td>\n",
       "      <td>32.00</td>\n",
       "      <td>1</td>\n",
       "    </tr>\n",
       "    <tr>\n",
       "      <th>22</th>\n",
       "      <td>Jack Black</td>\n",
       "      <td>10.00</td>\n",
       "      <td>10.00</td>\n",
       "      <td>1</td>\n",
       "    </tr>\n",
       "    <tr>\n",
       "      <th>23</th>\n",
       "      <td>Josie Maran</td>\n",
       "      <td>28.00</td>\n",
       "      <td>49.00</td>\n",
       "      <td>4</td>\n",
       "    </tr>\n",
       "    <tr>\n",
       "      <th>24</th>\n",
       "      <td>KORA Organics</td>\n",
       "      <td>28.00</td>\n",
       "      <td>28.00</td>\n",
       "      <td>1</td>\n",
       "    </tr>\n",
       "    <tr>\n",
       "      <th>25</th>\n",
       "      <td>KORRES</td>\n",
       "      <td>28.00</td>\n",
       "      <td>50.00</td>\n",
       "      <td>4</td>\n",
       "    </tr>\n",
       "    <tr>\n",
       "      <th>26</th>\n",
       "      <td>Kate Somerville</td>\n",
       "      <td>28.00</td>\n",
       "      <td>98.00</td>\n",
       "      <td>2</td>\n",
       "    </tr>\n",
       "    <tr>\n",
       "      <th>27</th>\n",
       "      <td>Kiehl's Since 1851</td>\n",
       "      <td>24.00</td>\n",
       "      <td>78.00</td>\n",
       "      <td>5</td>\n",
       "    </tr>\n",
       "    <tr>\n",
       "      <th>28</th>\n",
       "      <td>LANEIGE</td>\n",
       "      <td>18.00</td>\n",
       "      <td>33.00</td>\n",
       "      <td>3</td>\n",
       "    </tr>\n",
       "    <tr>\n",
       "      <th>29</th>\n",
       "      <td>La Mer</td>\n",
       "      <td>100.00</td>\n",
       "      <td>380.00</td>\n",
       "      <td>2</td>\n",
       "    </tr>\n",
       "    <tr>\n",
       "      <th>30</th>\n",
       "      <td>Lancôme</td>\n",
       "      <td>39.00</td>\n",
       "      <td>132.00</td>\n",
       "      <td>4</td>\n",
       "    </tr>\n",
       "    <tr>\n",
       "      <th>31</th>\n",
       "      <td>MILK MAKEUP</td>\n",
       "      <td>28.00</td>\n",
       "      <td>38.00</td>\n",
       "      <td>2</td>\n",
       "    </tr>\n",
       "    <tr>\n",
       "      <th>32</th>\n",
       "      <td>Murad</td>\n",
       "      <td>14.00</td>\n",
       "      <td>36.00</td>\n",
       "      <td>2</td>\n",
       "    </tr>\n",
       "    <tr>\n",
       "      <th>33</th>\n",
       "      <td>NUDESTIX</td>\n",
       "      <td>19.00</td>\n",
       "      <td>19.00</td>\n",
       "      <td>1</td>\n",
       "    </tr>\n",
       "    <tr>\n",
       "      <th>34</th>\n",
       "      <td>OLEHENRIKSEN</td>\n",
       "      <td>33.00</td>\n",
       "      <td>60.00</td>\n",
       "      <td>9</td>\n",
       "    </tr>\n",
       "    <tr>\n",
       "      <th>35</th>\n",
       "      <td>Origins</td>\n",
       "      <td>17.00</td>\n",
       "      <td>52.00</td>\n",
       "      <td>10</td>\n",
       "    </tr>\n",
       "    <tr>\n",
       "      <th>36</th>\n",
       "      <td>Paula's Choice</td>\n",
       "      <td>34.00</td>\n",
       "      <td>34.00</td>\n",
       "      <td>1</td>\n",
       "    </tr>\n",
       "    <tr>\n",
       "      <th>37</th>\n",
       "      <td>Peace Out</td>\n",
       "      <td>19.00</td>\n",
       "      <td>28.00</td>\n",
       "      <td>3</td>\n",
       "    </tr>\n",
       "    <tr>\n",
       "      <th>38</th>\n",
       "      <td>Peter Thomas Roth</td>\n",
       "      <td>12.00</td>\n",
       "      <td>54.00</td>\n",
       "      <td>7</td>\n",
       "    </tr>\n",
       "    <tr>\n",
       "      <th>39</th>\n",
       "      <td>REN Clean Skincare</td>\n",
       "      <td>22.00</td>\n",
       "      <td>58.00</td>\n",
       "      <td>3</td>\n",
       "    </tr>\n",
       "    <tr>\n",
       "      <th>40</th>\n",
       "      <td>Rosebud Perfume Co.</td>\n",
       "      <td>7.00</td>\n",
       "      <td>8.00</td>\n",
       "      <td>4</td>\n",
       "    </tr>\n",
       "    <tr>\n",
       "      <th>41</th>\n",
       "      <td>SEPHORA COLLECTION</td>\n",
       "      <td>3.00</td>\n",
       "      <td>20.00</td>\n",
       "      <td>2</td>\n",
       "    </tr>\n",
       "    <tr>\n",
       "      <th>42</th>\n",
       "      <td>SK-II</td>\n",
       "      <td>99.00</td>\n",
       "      <td>245.00</td>\n",
       "      <td>2</td>\n",
       "    </tr>\n",
       "    <tr>\n",
       "      <th>43</th>\n",
       "      <td>Shiseido</td>\n",
       "      <td>13.00</td>\n",
       "      <td>64.00</td>\n",
       "      <td>6</td>\n",
       "    </tr>\n",
       "    <tr>\n",
       "      <th>44</th>\n",
       "      <td>Skinfix</td>\n",
       "      <td>20.00</td>\n",
       "      <td>54.00</td>\n",
       "      <td>2</td>\n",
       "    </tr>\n",
       "    <tr>\n",
       "      <th>45</th>\n",
       "      <td>Sol de Janeiro</td>\n",
       "      <td>18.00</td>\n",
       "      <td>18.00</td>\n",
       "      <td>1</td>\n",
       "    </tr>\n",
       "    <tr>\n",
       "      <th>46</th>\n",
       "      <td>Summer Fridays</td>\n",
       "      <td>24.00</td>\n",
       "      <td>49.00</td>\n",
       "      <td>3</td>\n",
       "    </tr>\n",
       "    <tr>\n",
       "      <th>47</th>\n",
       "      <td>Sunday Riley</td>\n",
       "      <td>65.00</td>\n",
       "      <td>122.00</td>\n",
       "      <td>8</td>\n",
       "    </tr>\n",
       "    <tr>\n",
       "      <th>48</th>\n",
       "      <td>Supergoop!</td>\n",
       "      <td>22.00</td>\n",
       "      <td>48.00</td>\n",
       "      <td>4</td>\n",
       "    </tr>\n",
       "    <tr>\n",
       "      <th>49</th>\n",
       "      <td>Tatcha</td>\n",
       "      <td>18.00</td>\n",
       "      <td>110.00</td>\n",
       "      <td>18</td>\n",
       "    </tr>\n",
       "    <tr>\n",
       "      <th>50</th>\n",
       "      <td>The INKEY List</td>\n",
       "      <td>5.99</td>\n",
       "      <td>11.99</td>\n",
       "      <td>5</td>\n",
       "    </tr>\n",
       "    <tr>\n",
       "      <th>51</th>\n",
       "      <td>The Ordinary</td>\n",
       "      <td>6.00</td>\n",
       "      <td>30.80</td>\n",
       "      <td>9</td>\n",
       "    </tr>\n",
       "    <tr>\n",
       "      <th>52</th>\n",
       "      <td>Wishful</td>\n",
       "      <td>21.00</td>\n",
       "      <td>39.00</td>\n",
       "      <td>2</td>\n",
       "    </tr>\n",
       "    <tr>\n",
       "      <th>53</th>\n",
       "      <td>Youth To The People</td>\n",
       "      <td>14.00</td>\n",
       "      <td>58.00</td>\n",
       "      <td>7</td>\n",
       "    </tr>\n",
       "    <tr>\n",
       "      <th>54</th>\n",
       "      <td>bareMinerals</td>\n",
       "      <td>65.00</td>\n",
       "      <td>65.00</td>\n",
       "      <td>1</td>\n",
       "    </tr>\n",
       "    <tr>\n",
       "      <th>55</th>\n",
       "      <td>belif</td>\n",
       "      <td>22.00</td>\n",
       "      <td>48.00</td>\n",
       "      <td>6</td>\n",
       "    </tr>\n",
       "    <tr>\n",
       "      <th>56</th>\n",
       "      <td>fresh</td>\n",
       "      <td>19.00</td>\n",
       "      <td>95.00</td>\n",
       "      <td>12</td>\n",
       "    </tr>\n",
       "    <tr>\n",
       "      <th>57</th>\n",
       "      <td>goop</td>\n",
       "      <td>42.00</td>\n",
       "      <td>125.00</td>\n",
       "      <td>4</td>\n",
       "    </tr>\n",
       "    <tr>\n",
       "      <th>58</th>\n",
       "      <td>innisfree</td>\n",
       "      <td>16.00</td>\n",
       "      <td>16.00</td>\n",
       "      <td>2</td>\n",
       "    </tr>\n",
       "    <tr>\n",
       "      <th>59</th>\n",
       "      <td>tarte</td>\n",
       "      <td>12.00</td>\n",
       "      <td>48.00</td>\n",
       "      <td>3</td>\n",
       "    </tr>\n",
       "  </tbody>\n",
       "</table>\n",
       "</div>"
      ],
      "text/plain": [
       "                   brand_name  min_price  max_price  product_count\n",
       "0                    Algenist      68.00     115.00              3\n",
       "1                   Biossance      60.00      74.00              2\n",
       "2                 Bobbi Brown      66.00      66.00              1\n",
       "3                    CLINIQUE      14.00      82.00             13\n",
       "4                    Caudalie      12.00      82.00              5\n",
       "5           Charlotte Tilbury     100.00     100.00              1\n",
       "6                     Clarins      90.00      90.00              1\n",
       "7                 Dermalogica      15.00      65.00              4\n",
       "8                        Dior     130.00     130.00              1\n",
       "9         Dr. Brandt Skincare      54.00      54.00              1\n",
       "10  Dr. Dennis Gross Skincare      68.00      92.00              3\n",
       "11                  Dr. Jart+      21.00      52.00              3\n",
       "12             Drunk Elephant      18.00      90.00             14\n",
       "13               Estée Lauder      19.00     195.00              6\n",
       "14                      Evian      17.00      17.00              1\n",
       "15                    Farmacy      36.00      60.00              5\n",
       "16           First Aid Beauty      24.00      38.00              4\n",
       "17                   GUERLAIN      55.00     145.00              2\n",
       "18                Glow Recipe      15.00      45.00             11\n",
       "19                  Herbivore      50.00      50.00              1\n",
       "20               IT Cosmetics      20.00      44.00              2\n",
       "21           Isle of Paradise      32.00      32.00              1\n",
       "22                 Jack Black      10.00      10.00              1\n",
       "23                Josie Maran      28.00      49.00              4\n",
       "24              KORA Organics      28.00      28.00              1\n",
       "25                     KORRES      28.00      50.00              4\n",
       "26            Kate Somerville      28.00      98.00              2\n",
       "27         Kiehl's Since 1851      24.00      78.00              5\n",
       "28                    LANEIGE      18.00      33.00              3\n",
       "29                     La Mer     100.00     380.00              2\n",
       "30                    Lancôme      39.00     132.00              4\n",
       "31                MILK MAKEUP      28.00      38.00              2\n",
       "32                      Murad      14.00      36.00              2\n",
       "33                   NUDESTIX      19.00      19.00              1\n",
       "34               OLEHENRIKSEN      33.00      60.00              9\n",
       "35                    Origins      17.00      52.00             10\n",
       "36             Paula's Choice      34.00      34.00              1\n",
       "37                  Peace Out      19.00      28.00              3\n",
       "38          Peter Thomas Roth      12.00      54.00              7\n",
       "39         REN Clean Skincare      22.00      58.00              3\n",
       "40        Rosebud Perfume Co.       7.00       8.00              4\n",
       "41         SEPHORA COLLECTION       3.00      20.00              2\n",
       "42                      SK-II      99.00     245.00              2\n",
       "43                   Shiseido      13.00      64.00              6\n",
       "44                    Skinfix      20.00      54.00              2\n",
       "45             Sol de Janeiro      18.00      18.00              1\n",
       "46             Summer Fridays      24.00      49.00              3\n",
       "47               Sunday Riley      65.00     122.00              8\n",
       "48                 Supergoop!      22.00      48.00              4\n",
       "49                     Tatcha      18.00     110.00             18\n",
       "50             The INKEY List       5.99      11.99              5\n",
       "51               The Ordinary       6.00      30.80              9\n",
       "52                    Wishful      21.00      39.00              2\n",
       "53        Youth To The People      14.00      58.00              7\n",
       "54               bareMinerals      65.00      65.00              1\n",
       "55                      belif      22.00      48.00              6\n",
       "56                      fresh      19.00      95.00             12\n",
       "57                       goop      42.00     125.00              4\n",
       "58                  innisfree      16.00      16.00              2\n",
       "59                      tarte      12.00      48.00              3"
      ]
     },
     "execution_count": 23,
     "metadata": {},
     "output_type": "execute_result"
    }
   ],
   "source": [
    "df.groupby('brand_name').agg(\n",
    "    min_price=('price_usd', 'min'),\n",
    "    max_price=('price_usd', 'max'),\n",
    "    product_count=('product_id', 'nunique')\n",
    ").reset_index()"
   ]
  },
  {
   "cell_type": "markdown",
   "metadata": {},
   "source": [
    "# **4. Convert Data Types**"
   ]
  },
  {
   "cell_type": "code",
   "execution_count": 24,
   "metadata": {},
   "outputs": [],
   "source": [
    "# Changing the data types based on the descriptions\n",
    "df['author_id'] = df['author_id'].astype(str)  # or int\n",
    "df['rating'] = df['rating'].astype(int)\n",
    "df['is_recommended'] = df['is_recommended'].astype(bool)\n",
    "df['helpfulness'] = df['helpfulness'].astype(float)\n",
    "df['total_feedback_count'] = df['total_feedback_count'].astype(int)\n",
    "df['total_neg_feedback_count'] = df['total_neg_feedback_count'].astype(int)\n",
    "df['total_pos_feedback_count'] = df['total_pos_feedback_count'].astype(int)\n",
    "df['submission_time'] = pd.to_datetime(df['submission_time'])  # Convert to datetime\n",
    "df['review_text'] = df['review_text'].astype(str)\n",
    "df['review_title'] = df['review_title'].astype(str)\n",
    "df['skin_tone'] = df['skin_tone'].astype(str)\n",
    "df['eye_color'] = df['eye_color'].astype(str)\n",
    "df['skin_type'] = df['skin_type'].astype(str)\n",
    "df['hair_color'] = df['hair_color'].astype(str)\n",
    "df['product_id'] = df['product_id'].astype(str)"
   ]
  },
  {
   "cell_type": "code",
   "execution_count": 25,
   "metadata": {},
   "outputs": [
    {
     "name": "stdout",
     "output_type": "stream",
     "text": [
      "<class 'pandas.core.frame.DataFrame'>\n",
      "Index: 601131 entries, 0 to 602129\n",
      "Data columns (total 19 columns):\n",
      " #   Column                    Non-Null Count   Dtype         \n",
      "---  ------                    --------------   -----         \n",
      " 0   Unnamed: 0                601131 non-null  int64         \n",
      " 1   author_id                 601131 non-null  object        \n",
      " 2   rating                    601131 non-null  int32         \n",
      " 3   is_recommended            601131 non-null  bool          \n",
      " 4   helpfulness               601131 non-null  float64       \n",
      " 5   total_feedback_count      601131 non-null  int32         \n",
      " 6   total_neg_feedback_count  601131 non-null  int32         \n",
      " 7   total_pos_feedback_count  601131 non-null  int32         \n",
      " 8   submission_time           601131 non-null  datetime64[ns]\n",
      " 9   review_text               601131 non-null  object        \n",
      " 10  review_title              601131 non-null  object        \n",
      " 11  skin_tone                 601131 non-null  object        \n",
      " 12  eye_color                 601131 non-null  object        \n",
      " 13  skin_type                 601131 non-null  object        \n",
      " 14  hair_color                601131 non-null  object        \n",
      " 15  product_id                601131 non-null  object        \n",
      " 16  product_name              601131 non-null  object        \n",
      " 17  brand_name                601131 non-null  object        \n",
      " 18  price_usd                 601131 non-null  float64       \n",
      "dtypes: bool(1), datetime64[ns](1), float64(2), int32(4), int64(1), object(10)\n",
      "memory usage: 78.5+ MB\n"
     ]
    }
   ],
   "source": [
    "df.info()"
   ]
  },
  {
   "cell_type": "markdown",
   "metadata": {},
   "source": [
    "##### **Depending on these data, there is no outliers in the price_usd for each brand_name**"
   ]
  },
  {
   "cell_type": "markdown",
   "metadata": {},
   "source": [
    "# **Some Analytics**"
   ]
  },
  {
   "cell_type": "code",
   "execution_count": 26,
   "metadata": {},
   "outputs": [
    {
     "data": {
      "text/plain": [
       "skin_tone\n",
       "dark           4.418919\n",
       "deep           4.276315\n",
       "ebony          2.000000\n",
       "fair           4.281779\n",
       "fairLight      4.263197\n",
       "light          4.329486\n",
       "lightMedium    4.324229\n",
       "medium         4.315336\n",
       "mediumTan      4.290374\n",
       "notSureST      4.097561\n",
       "olive          4.353555\n",
       "porcelain      4.320850\n",
       "rich           4.328374\n",
       "tan            4.308735\n",
       "Name: rating, dtype: float64"
      ]
     },
     "execution_count": 26,
     "metadata": {},
     "output_type": "execute_result"
    }
   ],
   "source": [
    "df.groupby('skin_tone')['rating'].mean()\n"
   ]
  },
  {
   "cell_type": "code",
   "execution_count": 27,
   "metadata": {},
   "outputs": [
    {
     "data": {
      "text/plain": [
       "<Axes: xlabel='year'>"
      ]
     },
     "execution_count": 27,
     "metadata": {},
     "output_type": "execute_result"
    },
    {
     "data": {
      "image/png": "[encoded data removed]",
      "text/plain": [
       "<Figure size 640x480 with 1 Axes>"
      ]
     },
     "metadata": {},
     "output_type": "display_data"
    }
   ],
   "source": [
    "df['year'] = df['submission_time'].dt.year\n",
    "reviews_per_year = df.groupby('year')['review_text'].count()\n",
    "reviews_per_year.plot(kind='bar')"
   ]
  },
  {
   "cell_type": "code",
   "execution_count": 28,
   "metadata": {},
   "outputs": [
    {
     "data": {
      "text/plain": [
       "skin_tone\n",
       "light          247191\n",
       "fair           111875\n",
       "lightMedium    106249\n",
       "medium          36986\n",
       "mediumTan       34428\n",
       "fairLight       30612\n",
       "tan             17698\n",
       "deep            10821\n",
       "rich             2890\n",
       "olive            1055\n",
       "porcelain         988\n",
       "dark              296\n",
       "notSureST          41\n",
       "ebony               1\n",
       "Name: count, dtype: int64"
      ]
     },
     "execution_count": 28,
     "metadata": {},
     "output_type": "execute_result"
    }
   ],
   "source": [
    "# unique values in columns skin_tone, hair_color and eye_color\n",
    "\n",
    "df['skin_tone'].value_counts()"
   ]
  },
  {
   "cell_type": "code",
   "execution_count": 29,
   "metadata": {},
   "outputs": [
    {
     "data": {
      "text/plain": [
       "hair_color\n",
       "brown       359188\n",
       "blonde      106614\n",
       "black        96649\n",
       "auburn       16124\n",
       "red          13718\n",
       "brunette      6008\n",
       "gray          2830\n",
       "Name: count, dtype: int64"
      ]
     },
     "execution_count": 29,
     "metadata": {},
     "output_type": "execute_result"
    }
   ],
   "source": [
    "df['hair_color'].value_counts()"
   ]
  },
  {
   "cell_type": "code",
   "execution_count": 37,
   "metadata": {},
   "outputs": [
    {
     "data": {
      "text/plain": [
       "Index(['Unnamed: 0', 'author_id', 'rating', 'is_recommended', 'helpfulness',\n",
       "       'total_feedback_count', 'total_neg_feedback_count',\n",
       "       'total_pos_feedback_count', 'submission_time', 'review_text',\n",
       "       'review_title', 'skin_tone', 'eye_color', 'skin_type', 'hair_color',\n",
       "       'product_id', 'product_name', 'brand_name', 'price_usd', 'year',\n",
       "       'clean_review'],\n",
       "      dtype='object')"
      ]
     },
     "execution_count": 37,
     "metadata": {},
     "output_type": "execute_result"
    }
   ],
   "source": [
    "#get column names of the dataset\n",
    "\n",
    "df.columns"
   ]
  },
  {
   "cell_type": "code",
   "execution_count": 30,
   "metadata": {},
   "outputs": [
    {
     "data": {
      "text/plain": [
       "eye_color\n",
       "brown    381652\n",
       "blue      91744\n",
       "hazel     62501\n",
       "green     62319\n",
       "grey       2695\n",
       "gray        220\n",
       "Name: count, dtype: int64"
      ]
     },
     "execution_count": 30,
     "metadata": {},
     "output_type": "execute_result"
    }
   ],
   "source": [
    "df['eye_color'].value_counts()"
   ]
  },
  {
   "cell_type": "code",
   "execution_count": 31,
   "metadata": {},
   "outputs": [],
   "source": [
    "# Save DataFrame to a CSV file\n",
    "df.to_csv(r'D:\\DEPI Data Engineer\\__ Graduation Project\\Data\\new_data_for_powerBi.csv', index=False)"
   ]
  },
  {
   "cell_type": "markdown",
   "metadata": {},
   "source": [
    "# **Preprocessing for NLP**"
   ]
  },
  {
   "cell_type": "code",
   "execution_count": 32,
   "metadata": {},
   "outputs": [
    {
     "name": "stderr",
     "output_type": "stream",
     "text": [
      "[nltk_data] Downloading package stopwords to\n",
      "[nltk_data]     C:\\Users\\DELL\\AppData\\Roaming\\nltk_data...\n",
      "[nltk_data]   Package stopwords is already up-to-date!\n",
      "[nltk_data] Downloading package wordnet to\n",
      "[nltk_data]     C:\\Users\\DELL\\AppData\\Roaming\\nltk_data...\n",
      "[nltk_data]   Package wordnet is already up-to-date!\n"
     ]
    },
    {
     "ename": "KeyboardInterrupt",
     "evalue": "",
     "output_type": "error",
     "traceback": [
      "\u001b[1;31m---------------------------------------------------------------------------\u001b[0m",
      "\u001b[1;31mKeyboardInterrupt\u001b[0m                         Traceback (most recent call last)",
      "Cell \u001b[1;32mIn[32], line 47\u001b[0m\n\u001b[0;32m     43\u001b[0m     \u001b[38;5;28;01mreturn\u001b[39;00m df\n\u001b[0;32m     45\u001b[0m \u001b[38;5;66;03m# Example usage\u001b[39;00m\n\u001b[0;32m     46\u001b[0m \u001b[38;5;66;03m# Assuming you have a DataFrame `df` with a column 'review_text'\u001b[39;00m\n\u001b[1;32m---> 47\u001b[0m df \u001b[38;5;241m=\u001b[39m \u001b[43mclean_reviews\u001b[49m\u001b[43m(\u001b[49m\u001b[43mdf\u001b[49m\u001b[43m,\u001b[49m\u001b[43m \u001b[49m\u001b[38;5;124;43m'\u001b[39;49m\u001b[38;5;124;43mreview_text\u001b[39;49m\u001b[38;5;124;43m'\u001b[39;49m\u001b[43m)\u001b[49m\n",
      "Cell \u001b[1;32mIn[32], line 41\u001b[0m, in \u001b[0;36mclean_reviews\u001b[1;34m(df, text_column)\u001b[0m\n\u001b[0;32m     39\u001b[0m df[\u001b[38;5;124m'\u001b[39m\u001b[38;5;124mclean_review\u001b[39m\u001b[38;5;124m'\u001b[39m] \u001b[38;5;241m=\u001b[39m df[\u001b[38;5;124m'\u001b[39m\u001b[38;5;124mclean_review\u001b[39m\u001b[38;5;124m'\u001b[39m]\u001b[38;5;241m.\u001b[39mapply(remove_repeated_chars)  \u001b[38;5;66;03m# Remove repeated characters\u001b[39;00m\n\u001b[0;32m     40\u001b[0m df[\u001b[38;5;124m'\u001b[39m\u001b[38;5;124mclean_review\u001b[39m\u001b[38;5;124m'\u001b[39m] \u001b[38;5;241m=\u001b[39m df[\u001b[38;5;124m'\u001b[39m\u001b[38;5;124mclean_review\u001b[39m\u001b[38;5;124m'\u001b[39m]\u001b[38;5;241m.\u001b[39mapply(\u001b[38;5;28;01mlambda\u001b[39;00m x: \u001b[38;5;124m'\u001b[39m\u001b[38;5;124m \u001b[39m\u001b[38;5;124m'\u001b[39m\u001b[38;5;241m.\u001b[39mjoin([lemmatizer\u001b[38;5;241m.\u001b[39mlemmatize(word) \u001b[38;5;28;01mfor\u001b[39;00m word \u001b[38;5;129;01min\u001b[39;00m x\u001b[38;5;241m.\u001b[39msplit()]))  \u001b[38;5;66;03m# Lemmatization\u001b[39;00m\n\u001b[1;32m---> 41\u001b[0m df[\u001b[38;5;124m'\u001b[39m\u001b[38;5;124mclean_review\u001b[39m\u001b[38;5;124m'\u001b[39m] \u001b[38;5;241m=\u001b[39m \u001b[43mdf\u001b[49m\u001b[43m[\u001b[49m\u001b[38;5;124;43m'\u001b[39;49m\u001b[38;5;124;43mclean_review\u001b[39;49m\u001b[38;5;124;43m'\u001b[39;49m\u001b[43m]\u001b[49m\u001b[38;5;241;43m.\u001b[39;49m\u001b[43mapply\u001b[49m\u001b[43m(\u001b[49m\u001b[38;5;28;43;01mlambda\u001b[39;49;00m\u001b[43m \u001b[49m\u001b[43mx\u001b[49m\u001b[43m:\u001b[49m\u001b[43m \u001b[49m\u001b[38;5;124;43m'\u001b[39;49m\u001b[38;5;124;43m \u001b[39;49m\u001b[38;5;124;43m'\u001b[39;49m\u001b[38;5;241;43m.\u001b[39;49m\u001b[43mjoin\u001b[49m\u001b[43m(\u001b[49m\u001b[43m[\u001b[49m\u001b[43mps\u001b[49m\u001b[38;5;241;43m.\u001b[39;49m\u001b[43mstem\u001b[49m\u001b[43m(\u001b[49m\u001b[43mword\u001b[49m\u001b[43m)\u001b[49m\u001b[43m \u001b[49m\u001b[38;5;28;43;01mfor\u001b[39;49;00m\u001b[43m \u001b[49m\u001b[43mword\u001b[49m\u001b[43m \u001b[49m\u001b[38;5;129;43;01min\u001b[39;49;00m\u001b[43m \u001b[49m\u001b[43mx\u001b[49m\u001b[38;5;241;43m.\u001b[39;49m\u001b[43msplit\u001b[49m\u001b[43m(\u001b[49m\u001b[43m)\u001b[49m\u001b[43m]\u001b[49m\u001b[43m)\u001b[49m\u001b[43m)\u001b[49m  \u001b[38;5;66;03m# Stemming\u001b[39;00m\n\u001b[0;32m     43\u001b[0m \u001b[38;5;28;01mreturn\u001b[39;00m df\n",
      "File \u001b[1;32mc:\\Users\\DELL\\AppData\\Local\\Programs\\Python\\Python312\\Lib\\site-packages\\pandas\\core\\series.py:4924\u001b[0m, in \u001b[0;36mSeries.apply\u001b[1;34m(self, func, convert_dtype, args, by_row, **kwargs)\u001b[0m\n\u001b[0;32m   4789\u001b[0m \u001b[38;5;28;01mdef\u001b[39;00m \u001b[38;5;21mapply\u001b[39m(\n\u001b[0;32m   4790\u001b[0m     \u001b[38;5;28mself\u001b[39m,\n\u001b[0;32m   4791\u001b[0m     func: AggFuncType,\n\u001b[1;32m   (...)\u001b[0m\n\u001b[0;32m   4796\u001b[0m     \u001b[38;5;241m*\u001b[39m\u001b[38;5;241m*\u001b[39mkwargs,\n\u001b[0;32m   4797\u001b[0m ) \u001b[38;5;241m-\u001b[39m\u001b[38;5;241m>\u001b[39m DataFrame \u001b[38;5;241m|\u001b[39m Series:\n\u001b[0;32m   4798\u001b[0m \u001b[38;5;250m    \u001b[39m\u001b[38;5;124;03m\"\"\"\u001b[39;00m\n\u001b[0;32m   4799\u001b[0m \u001b[38;5;124;03m    Invoke function on values of Series.\u001b[39;00m\n\u001b[0;32m   4800\u001b[0m \n\u001b[1;32m   (...)\u001b[0m\n\u001b[0;32m   4915\u001b[0m \u001b[38;5;124;03m    dtype: float64\u001b[39;00m\n\u001b[0;32m   4916\u001b[0m \u001b[38;5;124;03m    \"\"\"\u001b[39;00m\n\u001b[0;32m   4917\u001b[0m     \u001b[38;5;28;01mreturn\u001b[39;00m \u001b[43mSeriesApply\u001b[49m\u001b[43m(\u001b[49m\n\u001b[0;32m   4918\u001b[0m \u001b[43m        \u001b[49m\u001b[38;5;28;43mself\u001b[39;49m\u001b[43m,\u001b[49m\n\u001b[0;32m   4919\u001b[0m \u001b[43m        \u001b[49m\u001b[43mfunc\u001b[49m\u001b[43m,\u001b[49m\n\u001b[0;32m   4920\u001b[0m \u001b[43m        \u001b[49m\u001b[43mconvert_dtype\u001b[49m\u001b[38;5;241;43m=\u001b[39;49m\u001b[43mconvert_dtype\u001b[49m\u001b[43m,\u001b[49m\n\u001b[0;32m   4921\u001b[0m \u001b[43m        \u001b[49m\u001b[43mby_row\u001b[49m\u001b[38;5;241;43m=\u001b[39;49m\u001b[43mby_row\u001b[49m\u001b[43m,\u001b[49m\n\u001b[0;32m   4922\u001b[0m \u001b[43m        \u001b[49m\u001b[43margs\u001b[49m\u001b[38;5;241;43m=\u001b[39;49m\u001b[43margs\u001b[49m\u001b[43m,\u001b[49m\n\u001b[0;32m   4923\u001b[0m \u001b[43m        \u001b[49m\u001b[43mkwargs\u001b[49m\u001b[38;5;241;43m=\u001b[39;49m\u001b[43mkwargs\u001b[49m\u001b[43m,\u001b[49m\n\u001b[1;32m-> 4924\u001b[0m \u001b[43m    \u001b[49m\u001b[43m)\u001b[49m\u001b[38;5;241;43m.\u001b[39;49m\u001b[43mapply\u001b[49m\u001b[43m(\u001b[49m\u001b[43m)\u001b[49m\n",
      "File \u001b[1;32mc:\\Users\\DELL\\AppData\\Local\\Programs\\Python\\Python312\\Lib\\site-packages\\pandas\\core\\apply.py:1427\u001b[0m, in \u001b[0;36mSeriesApply.apply\u001b[1;34m(self)\u001b[0m\n\u001b[0;32m   1424\u001b[0m     \u001b[38;5;28;01mreturn\u001b[39;00m \u001b[38;5;28mself\u001b[39m\u001b[38;5;241m.\u001b[39mapply_compat()\n\u001b[0;32m   1426\u001b[0m \u001b[38;5;66;03m# self.func is Callable\u001b[39;00m\n\u001b[1;32m-> 1427\u001b[0m \u001b[38;5;28;01mreturn\u001b[39;00m \u001b[38;5;28;43mself\u001b[39;49m\u001b[38;5;241;43m.\u001b[39;49m\u001b[43mapply_standard\u001b[49m\u001b[43m(\u001b[49m\u001b[43m)\u001b[49m\n",
      "File \u001b[1;32mc:\\Users\\DELL\\AppData\\Local\\Programs\\Python\\Python312\\Lib\\site-packages\\pandas\\core\\apply.py:1507\u001b[0m, in \u001b[0;36mSeriesApply.apply_standard\u001b[1;34m(self)\u001b[0m\n\u001b[0;32m   1501\u001b[0m \u001b[38;5;66;03m# row-wise access\u001b[39;00m\n\u001b[0;32m   1502\u001b[0m \u001b[38;5;66;03m# apply doesn't have a `na_action` keyword and for backward compat reasons\u001b[39;00m\n\u001b[0;32m   1503\u001b[0m \u001b[38;5;66;03m# we need to give `na_action=\"ignore\"` for categorical data.\u001b[39;00m\n\u001b[0;32m   1504\u001b[0m \u001b[38;5;66;03m# TODO: remove the `na_action=\"ignore\"` when that default has been changed in\u001b[39;00m\n\u001b[0;32m   1505\u001b[0m \u001b[38;5;66;03m#  Categorical (GH51645).\u001b[39;00m\n\u001b[0;32m   1506\u001b[0m action \u001b[38;5;241m=\u001b[39m \u001b[38;5;124m\"\u001b[39m\u001b[38;5;124mignore\u001b[39m\u001b[38;5;124m\"\u001b[39m \u001b[38;5;28;01mif\u001b[39;00m \u001b[38;5;28misinstance\u001b[39m(obj\u001b[38;5;241m.\u001b[39mdtype, CategoricalDtype) \u001b[38;5;28;01melse\u001b[39;00m \u001b[38;5;28;01mNone\u001b[39;00m\n\u001b[1;32m-> 1507\u001b[0m mapped \u001b[38;5;241m=\u001b[39m \u001b[43mobj\u001b[49m\u001b[38;5;241;43m.\u001b[39;49m\u001b[43m_map_values\u001b[49m\u001b[43m(\u001b[49m\n\u001b[0;32m   1508\u001b[0m \u001b[43m    \u001b[49m\u001b[43mmapper\u001b[49m\u001b[38;5;241;43m=\u001b[39;49m\u001b[43mcurried\u001b[49m\u001b[43m,\u001b[49m\u001b[43m \u001b[49m\u001b[43mna_action\u001b[49m\u001b[38;5;241;43m=\u001b[39;49m\u001b[43maction\u001b[49m\u001b[43m,\u001b[49m\u001b[43m \u001b[49m\u001b[43mconvert\u001b[49m\u001b[38;5;241;43m=\u001b[39;49m\u001b[38;5;28;43mself\u001b[39;49m\u001b[38;5;241;43m.\u001b[39;49m\u001b[43mconvert_dtype\u001b[49m\n\u001b[0;32m   1509\u001b[0m \u001b[43m\u001b[49m\u001b[43m)\u001b[49m\n\u001b[0;32m   1511\u001b[0m \u001b[38;5;28;01mif\u001b[39;00m \u001b[38;5;28mlen\u001b[39m(mapped) \u001b[38;5;129;01mand\u001b[39;00m \u001b[38;5;28misinstance\u001b[39m(mapped[\u001b[38;5;241m0\u001b[39m], ABCSeries):\n\u001b[0;32m   1512\u001b[0m     \u001b[38;5;66;03m# GH#43986 Need to do list(mapped) in order to get treated as nested\u001b[39;00m\n\u001b[0;32m   1513\u001b[0m     \u001b[38;5;66;03m#  See also GH#25959 regarding EA support\u001b[39;00m\n\u001b[0;32m   1514\u001b[0m     \u001b[38;5;28;01mreturn\u001b[39;00m obj\u001b[38;5;241m.\u001b[39m_constructor_expanddim(\u001b[38;5;28mlist\u001b[39m(mapped), index\u001b[38;5;241m=\u001b[39mobj\u001b[38;5;241m.\u001b[39mindex)\n",
      "File \u001b[1;32mc:\\Users\\DELL\\AppData\\Local\\Programs\\Python\\Python312\\Lib\\site-packages\\pandas\\core\\base.py:921\u001b[0m, in \u001b[0;36mIndexOpsMixin._map_values\u001b[1;34m(self, mapper, na_action, convert)\u001b[0m\n\u001b[0;32m    918\u001b[0m \u001b[38;5;28;01mif\u001b[39;00m \u001b[38;5;28misinstance\u001b[39m(arr, ExtensionArray):\n\u001b[0;32m    919\u001b[0m     \u001b[38;5;28;01mreturn\u001b[39;00m arr\u001b[38;5;241m.\u001b[39mmap(mapper, na_action\u001b[38;5;241m=\u001b[39mna_action)\n\u001b[1;32m--> 921\u001b[0m \u001b[38;5;28;01mreturn\u001b[39;00m \u001b[43malgorithms\u001b[49m\u001b[38;5;241;43m.\u001b[39;49m\u001b[43mmap_array\u001b[49m\u001b[43m(\u001b[49m\u001b[43marr\u001b[49m\u001b[43m,\u001b[49m\u001b[43m \u001b[49m\u001b[43mmapper\u001b[49m\u001b[43m,\u001b[49m\u001b[43m \u001b[49m\u001b[43mna_action\u001b[49m\u001b[38;5;241;43m=\u001b[39;49m\u001b[43mna_action\u001b[49m\u001b[43m,\u001b[49m\u001b[43m \u001b[49m\u001b[43mconvert\u001b[49m\u001b[38;5;241;43m=\u001b[39;49m\u001b[43mconvert\u001b[49m\u001b[43m)\u001b[49m\n",
      "File \u001b[1;32mc:\\Users\\DELL\\AppData\\Local\\Programs\\Python\\Python312\\Lib\\site-packages\\pandas\\core\\algorithms.py:1743\u001b[0m, in \u001b[0;36mmap_array\u001b[1;34m(arr, mapper, na_action, convert)\u001b[0m\n\u001b[0;32m   1741\u001b[0m values \u001b[38;5;241m=\u001b[39m arr\u001b[38;5;241m.\u001b[39mastype(\u001b[38;5;28mobject\u001b[39m, copy\u001b[38;5;241m=\u001b[39m\u001b[38;5;28;01mFalse\u001b[39;00m)\n\u001b[0;32m   1742\u001b[0m \u001b[38;5;28;01mif\u001b[39;00m na_action \u001b[38;5;129;01mis\u001b[39;00m \u001b[38;5;28;01mNone\u001b[39;00m:\n\u001b[1;32m-> 1743\u001b[0m     \u001b[38;5;28;01mreturn\u001b[39;00m \u001b[43mlib\u001b[49m\u001b[38;5;241;43m.\u001b[39;49m\u001b[43mmap_infer\u001b[49m\u001b[43m(\u001b[49m\u001b[43mvalues\u001b[49m\u001b[43m,\u001b[49m\u001b[43m \u001b[49m\u001b[43mmapper\u001b[49m\u001b[43m,\u001b[49m\u001b[43m \u001b[49m\u001b[43mconvert\u001b[49m\u001b[38;5;241;43m=\u001b[39;49m\u001b[43mconvert\u001b[49m\u001b[43m)\u001b[49m\n\u001b[0;32m   1744\u001b[0m \u001b[38;5;28;01melse\u001b[39;00m:\n\u001b[0;32m   1745\u001b[0m     \u001b[38;5;28;01mreturn\u001b[39;00m lib\u001b[38;5;241m.\u001b[39mmap_infer_mask(\n\u001b[0;32m   1746\u001b[0m         values, mapper, mask\u001b[38;5;241m=\u001b[39misna(values)\u001b[38;5;241m.\u001b[39mview(np\u001b[38;5;241m.\u001b[39muint8), convert\u001b[38;5;241m=\u001b[39mconvert\n\u001b[0;32m   1747\u001b[0m     )\n",
      "File \u001b[1;32mlib.pyx:2972\u001b[0m, in \u001b[0;36mpandas._libs.lib.map_infer\u001b[1;34m()\u001b[0m\n",
      "Cell \u001b[1;32mIn[32], line 41\u001b[0m, in \u001b[0;36mclean_reviews.<locals>.<lambda>\u001b[1;34m(x)\u001b[0m\n\u001b[0;32m     39\u001b[0m df[\u001b[38;5;124m'\u001b[39m\u001b[38;5;124mclean_review\u001b[39m\u001b[38;5;124m'\u001b[39m] \u001b[38;5;241m=\u001b[39m df[\u001b[38;5;124m'\u001b[39m\u001b[38;5;124mclean_review\u001b[39m\u001b[38;5;124m'\u001b[39m]\u001b[38;5;241m.\u001b[39mapply(remove_repeated_chars)  \u001b[38;5;66;03m# Remove repeated characters\u001b[39;00m\n\u001b[0;32m     40\u001b[0m df[\u001b[38;5;124m'\u001b[39m\u001b[38;5;124mclean_review\u001b[39m\u001b[38;5;124m'\u001b[39m] \u001b[38;5;241m=\u001b[39m df[\u001b[38;5;124m'\u001b[39m\u001b[38;5;124mclean_review\u001b[39m\u001b[38;5;124m'\u001b[39m]\u001b[38;5;241m.\u001b[39mapply(\u001b[38;5;28;01mlambda\u001b[39;00m x: \u001b[38;5;124m'\u001b[39m\u001b[38;5;124m \u001b[39m\u001b[38;5;124m'\u001b[39m\u001b[38;5;241m.\u001b[39mjoin([lemmatizer\u001b[38;5;241m.\u001b[39mlemmatize(word) \u001b[38;5;28;01mfor\u001b[39;00m word \u001b[38;5;129;01min\u001b[39;00m x\u001b[38;5;241m.\u001b[39msplit()]))  \u001b[38;5;66;03m# Lemmatization\u001b[39;00m\n\u001b[1;32m---> 41\u001b[0m df[\u001b[38;5;124m'\u001b[39m\u001b[38;5;124mclean_review\u001b[39m\u001b[38;5;124m'\u001b[39m] \u001b[38;5;241m=\u001b[39m df[\u001b[38;5;124m'\u001b[39m\u001b[38;5;124mclean_review\u001b[39m\u001b[38;5;124m'\u001b[39m]\u001b[38;5;241m.\u001b[39mapply(\u001b[38;5;28;01mlambda\u001b[39;00m x: \u001b[38;5;124m'\u001b[39m\u001b[38;5;124m \u001b[39m\u001b[38;5;124m'\u001b[39m\u001b[38;5;241m.\u001b[39mjoin([\u001b[43mps\u001b[49m\u001b[38;5;241;43m.\u001b[39;49m\u001b[43mstem\u001b[49m\u001b[43m(\u001b[49m\u001b[43mword\u001b[49m\u001b[43m)\u001b[49m \u001b[38;5;28;01mfor\u001b[39;00m word \u001b[38;5;129;01min\u001b[39;00m x\u001b[38;5;241m.\u001b[39msplit()]))  \u001b[38;5;66;03m# Stemming\u001b[39;00m\n\u001b[0;32m     43\u001b[0m \u001b[38;5;28;01mreturn\u001b[39;00m df\n",
      "File \u001b[1;32mc:\\Users\\DELL\\AppData\\Local\\Programs\\Python\\Python312\\Lib\\site-packages\\nltk\\stem\\porter.py:675\u001b[0m, in \u001b[0;36mPorterStemmer.stem\u001b[1;34m(self, word, to_lowercase)\u001b[0m\n\u001b[0;32m    673\u001b[0m stem \u001b[38;5;241m=\u001b[39m \u001b[38;5;28mself\u001b[39m\u001b[38;5;241m.\u001b[39m_step1c(stem)\n\u001b[0;32m    674\u001b[0m stem \u001b[38;5;241m=\u001b[39m \u001b[38;5;28mself\u001b[39m\u001b[38;5;241m.\u001b[39m_step2(stem)\n\u001b[1;32m--> 675\u001b[0m stem \u001b[38;5;241m=\u001b[39m \u001b[38;5;28;43mself\u001b[39;49m\u001b[38;5;241;43m.\u001b[39;49m\u001b[43m_step3\u001b[49m\u001b[43m(\u001b[49m\u001b[43mstem\u001b[49m\u001b[43m)\u001b[49m\n\u001b[0;32m    676\u001b[0m stem \u001b[38;5;241m=\u001b[39m \u001b[38;5;28mself\u001b[39m\u001b[38;5;241m.\u001b[39m_step4(stem)\n\u001b[0;32m    677\u001b[0m stem \u001b[38;5;241m=\u001b[39m \u001b[38;5;28mself\u001b[39m\u001b[38;5;241m.\u001b[39m_step5a(stem)\n",
      "File \u001b[1;32mc:\\Users\\DELL\\AppData\\Local\\Programs\\Python\\Python312\\Lib\\site-packages\\nltk\\stem\\porter.py:532\u001b[0m, in \u001b[0;36mPorterStemmer._step3\u001b[1;34m(self, word)\u001b[0m\n\u001b[0;32m    517\u001b[0m \u001b[38;5;28;01mdef\u001b[39;00m \u001b[38;5;21m_step3\u001b[39m(\u001b[38;5;28mself\u001b[39m, word):\n\u001b[0;32m    518\u001b[0m \u001b[38;5;250m    \u001b[39m\u001b[38;5;124;03m\"\"\"Implements Step 3 from \"An algorithm for suffix stripping\"\u001b[39;00m\n\u001b[0;32m    519\u001b[0m \n\u001b[0;32m    520\u001b[0m \u001b[38;5;124;03m    From the paper:\u001b[39;00m\n\u001b[1;32m   (...)\u001b[0m\n\u001b[0;32m    530\u001b[0m \u001b[38;5;124;03m        (m>0) NESS  ->                  goodness       ->  good\u001b[39;00m\n\u001b[0;32m    531\u001b[0m \u001b[38;5;124;03m    \"\"\"\u001b[39;00m\n\u001b[1;32m--> 532\u001b[0m     \u001b[38;5;28;01mreturn\u001b[39;00m \u001b[38;5;28;43mself\u001b[39;49m\u001b[38;5;241;43m.\u001b[39;49m\u001b[43m_apply_rule_list\u001b[49m\u001b[43m(\u001b[49m\n\u001b[0;32m    533\u001b[0m \u001b[43m        \u001b[49m\u001b[43mword\u001b[49m\u001b[43m,\u001b[49m\n\u001b[0;32m    534\u001b[0m \u001b[43m        \u001b[49m\u001b[43m[\u001b[49m\n\u001b[0;32m    535\u001b[0m \u001b[43m            \u001b[49m\u001b[43m(\u001b[49m\u001b[38;5;124;43m\"\u001b[39;49m\u001b[38;5;124;43micate\u001b[39;49m\u001b[38;5;124;43m\"\u001b[39;49m\u001b[43m,\u001b[49m\u001b[43m \u001b[49m\u001b[38;5;124;43m\"\u001b[39;49m\u001b[38;5;124;43mic\u001b[39;49m\u001b[38;5;124;43m\"\u001b[39;49m\u001b[43m,\u001b[49m\u001b[43m \u001b[49m\u001b[38;5;28;43mself\u001b[39;49m\u001b[38;5;241;43m.\u001b[39;49m\u001b[43m_has_positive_measure\u001b[49m\u001b[43m)\u001b[49m\u001b[43m,\u001b[49m\n\u001b[0;32m    536\u001b[0m \u001b[43m            \u001b[49m\u001b[43m(\u001b[49m\u001b[38;5;124;43m\"\u001b[39;49m\u001b[38;5;124;43mative\u001b[39;49m\u001b[38;5;124;43m\"\u001b[39;49m\u001b[43m,\u001b[49m\u001b[43m \u001b[49m\u001b[38;5;124;43m\"\u001b[39;49m\u001b[38;5;124;43m\"\u001b[39;49m\u001b[43m,\u001b[49m\u001b[43m \u001b[49m\u001b[38;5;28;43mself\u001b[39;49m\u001b[38;5;241;43m.\u001b[39;49m\u001b[43m_has_positive_measure\u001b[49m\u001b[43m)\u001b[49m\u001b[43m,\u001b[49m\n\u001b[0;32m    537\u001b[0m \u001b[43m            \u001b[49m\u001b[43m(\u001b[49m\u001b[38;5;124;43m\"\u001b[39;49m\u001b[38;5;124;43malize\u001b[39;49m\u001b[38;5;124;43m\"\u001b[39;49m\u001b[43m,\u001b[49m\u001b[43m \u001b[49m\u001b[38;5;124;43m\"\u001b[39;49m\u001b[38;5;124;43mal\u001b[39;49m\u001b[38;5;124;43m\"\u001b[39;49m\u001b[43m,\u001b[49m\u001b[43m \u001b[49m\u001b[38;5;28;43mself\u001b[39;49m\u001b[38;5;241;43m.\u001b[39;49m\u001b[43m_has_positive_measure\u001b[49m\u001b[43m)\u001b[49m\u001b[43m,\u001b[49m\n\u001b[0;32m    538\u001b[0m \u001b[43m            \u001b[49m\u001b[43m(\u001b[49m\u001b[38;5;124;43m\"\u001b[39;49m\u001b[38;5;124;43miciti\u001b[39;49m\u001b[38;5;124;43m\"\u001b[39;49m\u001b[43m,\u001b[49m\u001b[43m \u001b[49m\u001b[38;5;124;43m\"\u001b[39;49m\u001b[38;5;124;43mic\u001b[39;49m\u001b[38;5;124;43m\"\u001b[39;49m\u001b[43m,\u001b[49m\u001b[43m \u001b[49m\u001b[38;5;28;43mself\u001b[39;49m\u001b[38;5;241;43m.\u001b[39;49m\u001b[43m_has_positive_measure\u001b[49m\u001b[43m)\u001b[49m\u001b[43m,\u001b[49m\n\u001b[0;32m    539\u001b[0m \u001b[43m            \u001b[49m\u001b[43m(\u001b[49m\u001b[38;5;124;43m\"\u001b[39;49m\u001b[38;5;124;43mical\u001b[39;49m\u001b[38;5;124;43m\"\u001b[39;49m\u001b[43m,\u001b[49m\u001b[43m \u001b[49m\u001b[38;5;124;43m\"\u001b[39;49m\u001b[38;5;124;43mic\u001b[39;49m\u001b[38;5;124;43m\"\u001b[39;49m\u001b[43m,\u001b[49m\u001b[43m \u001b[49m\u001b[38;5;28;43mself\u001b[39;49m\u001b[38;5;241;43m.\u001b[39;49m\u001b[43m_has_positive_measure\u001b[49m\u001b[43m)\u001b[49m\u001b[43m,\u001b[49m\n\u001b[0;32m    540\u001b[0m \u001b[43m            \u001b[49m\u001b[43m(\u001b[49m\u001b[38;5;124;43m\"\u001b[39;49m\u001b[38;5;124;43mful\u001b[39;49m\u001b[38;5;124;43m\"\u001b[39;49m\u001b[43m,\u001b[49m\u001b[43m \u001b[49m\u001b[38;5;124;43m\"\u001b[39;49m\u001b[38;5;124;43m\"\u001b[39;49m\u001b[43m,\u001b[49m\u001b[43m \u001b[49m\u001b[38;5;28;43mself\u001b[39;49m\u001b[38;5;241;43m.\u001b[39;49m\u001b[43m_has_positive_measure\u001b[49m\u001b[43m)\u001b[49m\u001b[43m,\u001b[49m\n\u001b[0;32m    541\u001b[0m \u001b[43m            \u001b[49m\u001b[43m(\u001b[49m\u001b[38;5;124;43m\"\u001b[39;49m\u001b[38;5;124;43mness\u001b[39;49m\u001b[38;5;124;43m\"\u001b[39;49m\u001b[43m,\u001b[49m\u001b[43m \u001b[49m\u001b[38;5;124;43m\"\u001b[39;49m\u001b[38;5;124;43m\"\u001b[39;49m\u001b[43m,\u001b[49m\u001b[43m \u001b[49m\u001b[38;5;28;43mself\u001b[39;49m\u001b[38;5;241;43m.\u001b[39;49m\u001b[43m_has_positive_measure\u001b[49m\u001b[43m)\u001b[49m\u001b[43m,\u001b[49m\n\u001b[0;32m    542\u001b[0m \u001b[43m        \u001b[49m\u001b[43m]\u001b[49m\u001b[43m,\u001b[49m\n\u001b[0;32m    543\u001b[0m \u001b[43m    \u001b[49m\u001b[43m)\u001b[49m\n",
      "File \u001b[1;32mc:\\Users\\DELL\\AppData\\Local\\Programs\\Python\\Python312\\Lib\\site-packages\\nltk\\stem\\porter.py:248\u001b[0m, in \u001b[0;36mPorterStemmer._apply_rule_list\u001b[1;34m(self, word, rules)\u001b[0m\n\u001b[0;32m    245\u001b[0m     \u001b[38;5;28;01melse\u001b[39;00m:\n\u001b[0;32m    246\u001b[0m         \u001b[38;5;28;01mreturn\u001b[39;00m word[: \u001b[38;5;241m-\u001b[39m\u001b[38;5;28mlen\u001b[39m(suffix)] \u001b[38;5;241m+\u001b[39m replacement\n\u001b[1;32m--> 248\u001b[0m \u001b[38;5;28;01mdef\u001b[39;00m \u001b[38;5;21m_apply_rule_list\u001b[39m(\u001b[38;5;28mself\u001b[39m, word, rules):\n\u001b[0;32m    249\u001b[0m \u001b[38;5;250m    \u001b[39m\u001b[38;5;124;03m\"\"\"Applies the first applicable suffix-removal rule to the word\u001b[39;00m\n\u001b[0;32m    250\u001b[0m \n\u001b[0;32m    251\u001b[0m \u001b[38;5;124;03m    Takes a word and a list of suffix-removal rules represented as\u001b[39;00m\n\u001b[1;32m   (...)\u001b[0m\n\u001b[0;32m    255\u001b[0m \u001b[38;5;124;03m    or None if the rule is unconditional.\u001b[39;00m\n\u001b[0;32m    256\u001b[0m \u001b[38;5;124;03m    \"\"\"\u001b[39;00m\n\u001b[0;32m    257\u001b[0m     \u001b[38;5;28;01mfor\u001b[39;00m rule \u001b[38;5;129;01min\u001b[39;00m rules:\n",
      "\u001b[1;31mKeyboardInterrupt\u001b[0m: "
     ]
    }
   ],
   "source": [
    "import pandas as pd\n",
    "import re\n",
    "import nltk\n",
    "from nltk.corpus import stopwords\n",
    "from nltk.stem import PorterStemmer, WordNetLemmatizer\n",
    "from bs4 import BeautifulSoup\n",
    "\n",
    "# Download necessary NLTK data files\n",
    "nltk.download('stopwords')\n",
    "nltk.download('wordnet')\n",
    "\n",
    "def clean_reviews(df, text_column):\n",
    "    # Initialize necessary tools\n",
    "    ps = PorterStemmer()\n",
    "    lemmatizer = WordNetLemmatizer()\n",
    "    stopwords_list = stopwords.words('english')\n",
    "    \n",
    "    # Define the cleaning functions\n",
    "    def strip_html(text):\n",
    "        soup = BeautifulSoup(text, \"html.parser\")\n",
    "        return soup.get_text()\n",
    "\n",
    "    def remove_between_square_brackets(text):\n",
    "        return re.sub(r'\\[.*?\\]', '', text)\n",
    "\n",
    "    def remove_repeated_chars(text):\n",
    "        pattern = re.compile(r'(.)\\1{2,}')\n",
    "        cleaned_text = pattern.sub(r'\\1', text)\n",
    "        return cleaned_text\n",
    "\n",
    "    # Cleaning process\n",
    "    df['clean_review'] = df[text_column].apply(strip_html)  # Remove HTML tags\n",
    "    df['clean_review'] = df['clean_review'].str.replace(r'[^\\w\\s]', '', regex=True)  # Remove punctuation\n",
    "    df['clean_review'] = df['clean_review'].str.replace(r'\\d+', '', regex=True)  # Remove digits\n",
    "    df['clean_review'] = df['clean_review'].str.replace(r'^\\s+|\\s+$', '', regex=True)  # Remove leading/trailing spaces\n",
    "    df['clean_review'] = df['clean_review'].str.replace(r'[^a-zA-Z0-9\\s]', '', regex=True)  # Remove special characters\n",
    "    df['clean_review'] = df['clean_review'].str.lower()  # Convert to lowercase\n",
    "    df['clean_review'] = df['clean_review'].apply(lambda x: ' '.join([word for word in x.split() if word not in stopwords_list]))  # Remove stopwords\n",
    "    df['clean_review'] = df['clean_review'].apply(remove_repeated_chars)  # Remove repeated characters\n",
    "    df['clean_review'] = df['clean_review'].apply(lambda x: ' '.join([lemmatizer.lemmatize(word) for word in x.split()]))  # Lemmatization\n",
    "    df['clean_review'] = df['clean_review'].apply(lambda x: ' '.join([ps.stem(word) for word in x.split()]))  # Stemming\n",
    "\n",
    "    return df\n",
    "\n",
    "# Example usage\n",
    "# Assuming you have a DataFrame `df` with a column 'review_text'\n",
    "df = clean_reviews(df, 'review_text')\n"
   ]
  },
  {
   "cell_type": "code",
   "execution_count": 31,
   "metadata": {},
   "outputs": [
    {
     "data": {
      "text/plain": [
       "0     use nudestix citru clean balm makeup melt doub...\n",
       "1     bought lip mask read review hype unfortun meet...\n",
       "2     review titl say get excit get bed appli lip ma...\n",
       "3     ive alway love formula long time honestli dont...\n",
       "4     dri crack lip must week use learn alway bedsid...\n",
       "5     scent isnt favourit work great put everi night...\n",
       "6     ill give star nice packag love scent upon init...\n",
       "7     use night im put makeup love way dont reappli ...\n",
       "8     love stuff first sampl size sephora birthday g...\n",
       "9     purchas sweet candi scent local sephora obsess...\n",
       "10    product bit pricey use one scoop figur take lo...\n",
       "11    use everi night morn work wonder never fail ma...\n",
       "12    littl go long way love fragranc work great nig...\n",
       "13    honestli excit got mail unfortun worth hype bo...\n",
       "14    gummi bear mask smell absolut delici ye much l...\n",
       "Name: clean_review, dtype: object"
      ]
     },
     "execution_count": 31,
     "metadata": {},
     "output_type": "execute_result"
    }
   ],
   "source": [
    "df['clean_review'].head(15)"
   ]
  },
  {
   "cell_type": "markdown",
   "metadata": {},
   "source": [
    "# **Perform Sentimae analysis**"
   ]
  },
  {
   "cell_type": "code",
   "execution_count": 32,
   "metadata": {},
   "outputs": [],
   "source": [
    "# Perform sentiment analysis on reviews\n",
    "\n",
    "from textblob import TextBlob\n",
    "\n",
    "def get_sentiment(text):\n",
    "    analysis = TextBlob(text)\n",
    "    if analysis.sentiment.polarity > 0:\n",
    "        return 'Positive'\n",
    "    elif analysis.sentiment.polarity < 0:\n",
    "        return 'Negative'\n",
    "    else:\n",
    "        return 'Neutral'\n",
    "\n",
    "df['sentiment'] = df['clean_review'].apply(get_sentiment)"
   ]
  },
  {
   "cell_type": "code",
   "execution_count": 33,
   "metadata": {},
   "outputs": [
    {
     "data": {
      "text/plain": [
       "0         Positive\n",
       "1         Positive\n",
       "2          Neutral\n",
       "3         Positive\n",
       "4         Positive\n",
       "            ...   \n",
       "602125    Positive\n",
       "602126    Negative\n",
       "602127    Positive\n",
       "602128    Positive\n",
       "602129    Positive\n",
       "Name: sentiment, Length: 601131, dtype: object"
      ]
     },
     "execution_count": 33,
     "metadata": {},
     "output_type": "execute_result"
    }
   ],
   "source": [
    "df['sentiment']"
   ]
  },
  {
   "cell_type": "code",
   "execution_count": 34,
   "metadata": {},
   "outputs": [],
   "source": [
    "# Calculate percentage of positive, negative, and neutral reviews for each product and brand.\n",
    "sentiment_percentage = df.groupby(['product_name', 'sentiment']).size().unstack(fill_value=0)\n",
    "sentiment_percentage['Total'] = sentiment_percentage.sum(axis=1)\n",
    "sentiment_percentage['Positive (%)'] = (sentiment_percentage['Positive'] / sentiment_percentage['Total']) * 100\n",
    "sentiment_percentage['Negative (%)'] = (sentiment_percentage['Negative'] / sentiment_percentage['Total']) * 100\n",
    "sentiment_percentage['Neutral (%)'] = (sentiment_percentage['Neutral'] / sentiment_percentage['Total']) * 100\n"
   ]
  },
  {
   "cell_type": "code",
   "execution_count": 35,
   "metadata": {},
   "outputs": [
    {
     "data": {
      "image/png": "[encoded data removed]",
      "text/plain": [
       "<Figure size 1500x800 with 1 Axes>"
      ]
     },
     "metadata": {},
     "output_type": "display_data"
    }
   ],
   "source": [
    "# Set the figure size\n",
    "plt.figure(figsize=(15, 8))\n",
    "\n",
    "# Plot the sentiment analysis using seaborn countplot\n",
    "sns.countplot(data=df, x='sentiment', palette='coolwarm')\n",
    "\n",
    "# Set the title and labels\n",
    "plt.title('Sentiments of Products', fontsize=20)\n",
    "plt.ylabel('Count', fontsize=15)\n",
    "\n",
    "# Show the plot\n",
    "plt.show()\n"
   ]
  },
  {
   "cell_type": "code",
   "execution_count": 36,
   "metadata": {},
   "outputs": [
    {
     "ename": "NameError",
     "evalue": "name 'top_products' is not defined",
     "output_type": "error",
     "traceback": [
      "\u001b[1;31m---------------------------------------------------------------------------\u001b[0m",
      "\u001b[1;31mNameError\u001b[0m                                 Traceback (most recent call last)",
      "Cell \u001b[1;32mIn[36], line 4\u001b[0m\n\u001b[0;32m      1\u001b[0m \u001b[38;5;28;01mimport\u001b[39;00m \u001b[38;5;21;01mmatplotlib\u001b[39;00m\u001b[38;5;21;01m.\u001b[39;00m\u001b[38;5;21;01mpyplot\u001b[39;00m \u001b[38;5;28;01mas\u001b[39;00m \u001b[38;5;21;01mplt\u001b[39;00m\n\u001b[0;32m      3\u001b[0m \u001b[38;5;66;03m# Create a mapping of products to numbers (or letters)\u001b[39;00m\n\u001b[1;32m----> 4\u001b[0m product_mapping \u001b[38;5;241m=\u001b[39m {product: \u001b[38;5;124mf\u001b[39m\u001b[38;5;124m'\u001b[39m\u001b[38;5;124mP\u001b[39m\u001b[38;5;132;01m{\u001b[39;00mi\u001b[38;5;241m+\u001b[39m\u001b[38;5;241m1\u001b[39m\u001b[38;5;132;01m}\u001b[39;00m\u001b[38;5;124m'\u001b[39m \u001b[38;5;28;01mfor\u001b[39;00m i, product \u001b[38;5;129;01min\u001b[39;00m \u001b[38;5;28menumerate\u001b[39m(\u001b[43mtop_products\u001b[49m\u001b[38;5;241m.\u001b[39mindex)}\n\u001b[0;32m      6\u001b[0m \u001b[38;5;66;03m# Replace product names with their mapped values in the DataFrame\u001b[39;00m\n\u001b[0;32m      7\u001b[0m top_products_renamed \u001b[38;5;241m=\u001b[39m top_products\u001b[38;5;241m.\u001b[39mrename(index\u001b[38;5;241m=\u001b[39mproduct_mapping)\n",
      "\u001b[1;31mNameError\u001b[0m: name 'top_products' is not defined"
     ]
    }
   ],
   "source": [
    "import matplotlib.pyplot as plt\n",
    "\n",
    "# Create a mapping of products to numbers (or letters)\n",
    "product_mapping = {product: f'P{i+1}' for i, product in enumerate(top_products.index)}\n",
    "\n",
    "# Replace product names with their mapped values in the DataFrame\n",
    "top_products_renamed = top_products.rename(index=product_mapping)\n",
    "\n",
    "# Set larger figure size\n",
    "plt.figure(figsize=(20, 10))\n",
    "\n",
    "# Plot stacked bar chart with renamed products\n",
    "top_products_renamed[['Positive (%)', 'Negative (%)', 'Neutral (%)']].plot(kind='bar', stacked=True)\n",
    "\n",
    "# Set title and labels\n",
    "plt.title('Sentiment Analysis of Top 10 Products', fontsize=20)\n",
    "plt.xlabel('Product Number', fontsize=15)  # Change to 'Product Number'\n",
    "plt.ylabel('Percentage', fontsize=15)\n",
    "plt.xticks(rotation=45)\n",
    "\n",
    "# Get legend\n",
    "legend = plt.legend(title='Sentiment', fontsize=12)\n",
    "\n",
    "# Set legend title fontsize\n",
    "legend.get_title().set_fontsize('12')\n",
    "\n",
    "# Adjust layout\n",
    "plt.tight_layout()\n",
    "\n",
    "# Show the plot\n",
    "plt.show()\n",
    "\n",
    "# Print the mapping key as a product reference\n",
    "print(\"Product Mapping (Key):\")\n",
    "for real_name, mapped_name in product_mapping.items():\n",
    "    print(f'{mapped_name}: {real_name}')\n"
   ]
  },
  {
   "cell_type": "code",
   "execution_count": 303,
   "metadata": {},
   "outputs": [
    {
     "name": "stdout",
     "output_type": "stream",
     "text": [
      "The product with most positive sentiments: Gentle Hydra-Gel Face Cleanser\n"
     ]
    }
   ],
   "source": [
    "# Conclusion\n",
    "best_product = sentiment_percentage['Positive (%)'].idxmax()\n",
    "print(f\"The product with most positive sentiments: {best_product}\")"
   ]
  },
  {
   "cell_type": "code",
   "execution_count": 304,
   "metadata": {},
   "outputs": [],
   "source": [
    "sentiments = df['sentiment']\n",
    "reviews = df['clean_review']\n",
    "positive_words = ' '.join(reviews[sentiments == 'Positive'])\n",
    "negative_words = ' '.join(reviews[sentiments == 'Negative'])"
   ]
  },
  {
   "cell_type": "code",
   "execution_count": 305,
   "metadata": {},
   "outputs": [],
   "source": [
    "# Save DataFrame to a CSV file\n",
    "df.to_csv(r'D:\\DEPI Data Engineer\\__ Graduation Project\\Data\\preprocessed_data.csv', index=False)"
   ]
  }
 ],
 "metadata": {
  "kernelspec": {
   "display_name": "Python 3",
   "language": "python",
   "name": "python3"
  },
  "language_info": {
   "codemirror_mode": {
    "name": "ipython",
    "version": 3
   },
   "file_extension": ".py",
   "mimetype": "text/x-python",
   "name": "python",
   "nbconvert_exporter": "python",
   "pygments_lexer": "ipython3",
   "version": "3.12.5"
  }
 },
 "nbformat": 4,
 "nbformat_minor": 2
}
